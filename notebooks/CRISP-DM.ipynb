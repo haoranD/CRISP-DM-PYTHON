{
 "cells": [
  {
   "cell_type": "code",
   "execution_count": 63,
   "metadata": {},
   "outputs": [],
   "source": [
    "import os\n",
    "import sys\n",
    "module_path = os.path.abspath(os.path.join('..'))\n",
    "if module_path not in sys.path:\n",
    "    sys.path.append(module_path)"
   ]
  },
  {
   "cell_type": "code",
   "execution_count": 64,
   "metadata": {},
   "outputs": [],
   "source": [
    "import numpy as np\n",
    "from geopy.geocoders import Nominatim\n",
    "import plotly \n",
    "plotly.tools.set_credentials_file(username='haoran88', api_key='Dvsr2pAhI49jMnWPa6Vo')\n",
    "import pandas as pd\n",
    "import sklearn\n",
    "from os import listdir\n",
    "from src.data import EDA\n",
    "import csv\n",
    "from IPython.display import display\n",
    "from time import time"
   ]
  },
  {
   "cell_type": "markdown",
   "metadata": {},
   "source": [
    "# 'Data Understanding'\n",
    "\n",
    "team archetype-survey-responses weekly-sentiment-survey-responses不要"
   ]
  },
  {
   "cell_type": "markdown",
   "metadata": {},
   "source": [
    "#### 'Collect initial data'\n",
    "    - EDA.check_data(data_file_name)"
   ]
  },
  {
   "cell_type": "code",
   "execution_count": 65,
   "metadata": {},
   "outputs": [],
   "source": [
    "#Using the Relative Path is easy to reproduce the project \n",
    "Main_Data_Path = '../data/raw/Engagement of Cyber Serurity/dataset201819/'\n",
    "data_file_name = sorted(listdir(Main_Data_Path))"
   ]
  },
  {
   "cell_type": "code",
   "execution_count": 66,
   "metadata": {},
   "outputs": [
    {
     "data": {
      "text/html": [
       "<div>\n",
       "<style scoped>\n",
       "    .dataframe tbody tr th:only-of-type {\n",
       "        vertical-align: middle;\n",
       "    }\n",
       "\n",
       "    .dataframe tbody tr th {\n",
       "        vertical-align: top;\n",
       "    }\n",
       "\n",
       "    .dataframe thead th {\n",
       "        text-align: right;\n",
       "    }\n",
       "</style>\n",
       "<table border=\"1\" class=\"dataframe\">\n",
       "  <thead>\n",
       "    <tr style=\"text-align: right;\">\n",
       "      <th></th>\n",
       "      <th>0</th>\n",
       "      <th>1</th>\n",
       "      <th>2</th>\n",
       "      <th>3</th>\n",
       "      <th>4</th>\n",
       "      <th>5</th>\n",
       "      <th>6</th>\n",
       "      <th>7</th>\n",
       "    </tr>\n",
       "  </thead>\n",
       "  <tbody>\n",
       "    <tr>\n",
       "      <th>Times_1</th>\n",
       "      <td>archetype-survey-responses</td>\n",
       "      <td>enrolments</td>\n",
       "      <td>leaving-survey-responses</td>\n",
       "      <td>question-response</td>\n",
       "      <td>step-activity</td>\n",
       "      <td>weekly-sentiment-survey-responses</td>\n",
       "      <td>None</td>\n",
       "      <td>None</td>\n",
       "    </tr>\n",
       "    <tr>\n",
       "      <th>Times_2</th>\n",
       "      <td>archetype-survey-responses</td>\n",
       "      <td>enrolments</td>\n",
       "      <td>leaving-survey-responses</td>\n",
       "      <td>question-response</td>\n",
       "      <td>step-activity</td>\n",
       "      <td>team-members</td>\n",
       "      <td>weekly-sentiment-survey-responses</td>\n",
       "      <td>None</td>\n",
       "    </tr>\n",
       "    <tr>\n",
       "      <th>Times_3</th>\n",
       "      <td>archetype-survey-responses</td>\n",
       "      <td>enrolments</td>\n",
       "      <td>leaving-survey-responses</td>\n",
       "      <td>question-response</td>\n",
       "      <td>step-activity</td>\n",
       "      <td>team-members</td>\n",
       "      <td>video-stats</td>\n",
       "      <td>weekly-sentiment-survey-responses</td>\n",
       "    </tr>\n",
       "    <tr>\n",
       "      <th>Times_4</th>\n",
       "      <td>archetype-survey-responses</td>\n",
       "      <td>enrolments</td>\n",
       "      <td>leaving-survey-responses</td>\n",
       "      <td>question-response</td>\n",
       "      <td>step-activity</td>\n",
       "      <td>team-members</td>\n",
       "      <td>video-stats</td>\n",
       "      <td>weekly-sentiment-survey-responses</td>\n",
       "    </tr>\n",
       "    <tr>\n",
       "      <th>Times_5</th>\n",
       "      <td>archetype-survey-responses</td>\n",
       "      <td>enrolments</td>\n",
       "      <td>leaving-survey-responses</td>\n",
       "      <td>question-response</td>\n",
       "      <td>step-activity</td>\n",
       "      <td>team-members</td>\n",
       "      <td>video-stats</td>\n",
       "      <td>weekly-sentiment-survey-responses</td>\n",
       "    </tr>\n",
       "    <tr>\n",
       "      <th>Times_6</th>\n",
       "      <td>archetype-survey-responses</td>\n",
       "      <td>enrolments</td>\n",
       "      <td>leaving-survey-responses</td>\n",
       "      <td>question-response</td>\n",
       "      <td>step-activity</td>\n",
       "      <td>team-members</td>\n",
       "      <td>video-stats</td>\n",
       "      <td>weekly-sentiment-survey-responses</td>\n",
       "    </tr>\n",
       "    <tr>\n",
       "      <th>Times_7</th>\n",
       "      <td>archetype-survey-responses</td>\n",
       "      <td>enrolments</td>\n",
       "      <td>leaving-survey-responses</td>\n",
       "      <td>question-response</td>\n",
       "      <td>step-activity</td>\n",
       "      <td>team-members</td>\n",
       "      <td>video-stats</td>\n",
       "      <td>weekly-sentiment-survey-responses</td>\n",
       "    </tr>\n",
       "    <tr>\n",
       "      <th>Times_8</th>\n",
       "      <td>enrolments</td>\n",
       "      <td>None</td>\n",
       "      <td>None</td>\n",
       "      <td>None</td>\n",
       "      <td>None</td>\n",
       "      <td>None</td>\n",
       "      <td>None</td>\n",
       "      <td>None</td>\n",
       "    </tr>\n",
       "  </tbody>\n",
       "</table>\n",
       "</div>"
      ],
      "text/plain": [
       "                                  0           1                         2  \\\n",
       "Times_1  archetype-survey-responses  enrolments  leaving-survey-responses   \n",
       "Times_2  archetype-survey-responses  enrolments  leaving-survey-responses   \n",
       "Times_3  archetype-survey-responses  enrolments  leaving-survey-responses   \n",
       "Times_4  archetype-survey-responses  enrolments  leaving-survey-responses   \n",
       "Times_5  archetype-survey-responses  enrolments  leaving-survey-responses   \n",
       "Times_6  archetype-survey-responses  enrolments  leaving-survey-responses   \n",
       "Times_7  archetype-survey-responses  enrolments  leaving-survey-responses   \n",
       "Times_8                  enrolments        None                      None   \n",
       "\n",
       "                         3              4                                  5  \\\n",
       "Times_1  question-response  step-activity  weekly-sentiment-survey-responses   \n",
       "Times_2  question-response  step-activity                       team-members   \n",
       "Times_3  question-response  step-activity                       team-members   \n",
       "Times_4  question-response  step-activity                       team-members   \n",
       "Times_5  question-response  step-activity                       team-members   \n",
       "Times_6  question-response  step-activity                       team-members   \n",
       "Times_7  question-response  step-activity                       team-members   \n",
       "Times_8               None           None                               None   \n",
       "\n",
       "                                         6                                  7  \n",
       "Times_1                               None                               None  \n",
       "Times_2  weekly-sentiment-survey-responses                               None  \n",
       "Times_3                        video-stats  weekly-sentiment-survey-responses  \n",
       "Times_4                        video-stats  weekly-sentiment-survey-responses  \n",
       "Times_5                        video-stats  weekly-sentiment-survey-responses  \n",
       "Times_6                        video-stats  weekly-sentiment-survey-responses  \n",
       "Times_7                        video-stats  weekly-sentiment-survey-responses  \n",
       "Times_8                               None                               None  "
      ]
     },
     "metadata": {},
     "output_type": "display_data"
    }
   ],
   "source": [
    "num_times = 1\n",
    "times_list = []\n",
    "times_count = []\n",
    "tmp_data = []\n",
    "length_each = []\n",
    "nameCount = []\n",
    "just_count = 0\n",
    "\n",
    "for i in range(len(data_file_name) + 1):\n",
    "    \n",
    "    if i >= len(data_file_name):\n",
    "        times_list.append(tmp_data)\n",
    "        nameCount.append('Times_'+str(num_times))\n",
    "    else:\n",
    "        if int(data_file_name[i][15]) != num_times:\n",
    "            length_each.append(i - just_count)\n",
    "            nameCount.append('Times_'+str(num_times))\n",
    "            num_times += 1\n",
    "            times_list.append(tmp_data)\n",
    "            tmp_data = []\n",
    "            just_count = i\n",
    "        #print(num_times)\n",
    "        tmp_data.append(data_file_name[i][17:-4])\n",
    "        times_count.append('Times_'+str(num_times))\n",
    "data_file = pd.DataFrame(times_list,index=nameCount)\n",
    "display(data_file)"
   ]
  },
  {
   "cell_type": "markdown",
   "metadata": {},
   "source": [
    "#### 有一些缺失，刚刚开始上课的前两次不够成熟，没有代表性，选择地三次开始的数据"
   ]
  },
  {
   "cell_type": "markdown",
   "metadata": {},
   "source": [
    "##### 查看现有数据的大小 细节上 哪几个用哪几time的"
   ]
  },
  {
   "cell_type": "code",
   "execution_count": null,
   "metadata": {},
   "outputs": [],
   "source": [
    "os.path.getsize"
   ]
  },
  {
   "cell_type": "markdown",
   "metadata": {},
   "source": [
    "##### 单独查看某个数据，做出一些假设 看合不合适，然后使用单个文件进行查看"
   ]
  },
  {
   "cell_type": "markdown",
   "metadata": {},
   "source": [
    "#### 'Load All Data'"
   ]
  },
  {
   "cell_type": "code",
   "execution_count": 72,
   "metadata": {},
   "outputs": [],
   "source": [
    "tmp_dataframe_list = []\n",
    "tmp_csv_list = []\n",
    "\n",
    "for j in data_file_name:\n",
    "    Each_file = Main_Data_Path + j\n",
    "    \n",
    "    with open(Each_file) as file:\n",
    "        tmp_dataframe_list.append((str(j),pd.read_csv(file)))\n",
    "        tmp_csv_list.append((str(j),csv.reader(file)))\n",
    "Data_frame = dict(tmp_dataframe_list)\n",
    "Data_csv = dict(tmp_csv_list)"
   ]
  },
  {
   "cell_type": "markdown",
   "metadata": {},
   "source": [
    "#### Drop file\n",
    "so we don't use data named : team-members,weekly-sentiment-survey-responses,archetype-survey-responses"
   ]
  },
  {
   "cell_type": "markdown",
   "metadata": {},
   "source": [
    "#### Check the country"
   ]
  },
  {
   "cell_type": "code",
   "execution_count": 61,
   "metadata": {
    "scrolled": true
   },
   "outputs": [
    {
     "name": "stdout",
     "output_type": "stream",
     "text": [
      "GB\n"
     ]
    },
    {
     "ename": "GeocoderQuotaExceeded",
     "evalue": "HTTP Error 429: Too Many Requests",
     "output_type": "error",
     "traceback": [
      "\u001b[0;31m---------------------------------------------------------------------------\u001b[0m",
      "\u001b[0;31mHTTPError\u001b[0m                                 Traceback (most recent call last)",
      "\u001b[0;32m~/anaconda3/lib/python3.6/site-packages/geopy/geocoders/base.py\u001b[0m in \u001b[0;36m_call_geocoder\u001b[0;34m(self, url, timeout, raw, requester, deserializer, **kwargs)\u001b[0m\n\u001b[1;32m    343\u001b[0m         \u001b[0;32mtry\u001b[0m\u001b[0;34m:\u001b[0m\u001b[0;34m\u001b[0m\u001b[0m\n\u001b[0;32m--> 344\u001b[0;31m             \u001b[0mpage\u001b[0m \u001b[0;34m=\u001b[0m \u001b[0mrequester\u001b[0m\u001b[0;34m(\u001b[0m\u001b[0mreq\u001b[0m\u001b[0;34m,\u001b[0m \u001b[0mtimeout\u001b[0m\u001b[0;34m=\u001b[0m\u001b[0mtimeout\u001b[0m\u001b[0;34m,\u001b[0m \u001b[0;34m**\u001b[0m\u001b[0mkwargs\u001b[0m\u001b[0;34m)\u001b[0m\u001b[0;34m\u001b[0m\u001b[0m\n\u001b[0m\u001b[1;32m    345\u001b[0m         \u001b[0;32mexcept\u001b[0m \u001b[0mException\u001b[0m \u001b[0;32mas\u001b[0m \u001b[0merror\u001b[0m\u001b[0;34m:\u001b[0m\u001b[0;34m\u001b[0m\u001b[0m\n",
      "\u001b[0;32m~/anaconda3/lib/python3.6/urllib/request.py\u001b[0m in \u001b[0;36mopen\u001b[0;34m(self, fullurl, data, timeout)\u001b[0m\n\u001b[1;32m    531\u001b[0m             \u001b[0mmeth\u001b[0m \u001b[0;34m=\u001b[0m \u001b[0mgetattr\u001b[0m\u001b[0;34m(\u001b[0m\u001b[0mprocessor\u001b[0m\u001b[0;34m,\u001b[0m \u001b[0mmeth_name\u001b[0m\u001b[0;34m)\u001b[0m\u001b[0;34m\u001b[0m\u001b[0m\n\u001b[0;32m--> 532\u001b[0;31m             \u001b[0mresponse\u001b[0m \u001b[0;34m=\u001b[0m \u001b[0mmeth\u001b[0m\u001b[0;34m(\u001b[0m\u001b[0mreq\u001b[0m\u001b[0;34m,\u001b[0m \u001b[0mresponse\u001b[0m\u001b[0;34m)\u001b[0m\u001b[0;34m\u001b[0m\u001b[0m\n\u001b[0m\u001b[1;32m    533\u001b[0m \u001b[0;34m\u001b[0m\u001b[0m\n",
      "\u001b[0;32m~/anaconda3/lib/python3.6/urllib/request.py\u001b[0m in \u001b[0;36mhttp_response\u001b[0;34m(self, request, response)\u001b[0m\n\u001b[1;32m    641\u001b[0m             response = self.parent.error(\n\u001b[0;32m--> 642\u001b[0;31m                 'http', request, response, code, msg, hdrs)\n\u001b[0m\u001b[1;32m    643\u001b[0m \u001b[0;34m\u001b[0m\u001b[0m\n",
      "\u001b[0;32m~/anaconda3/lib/python3.6/urllib/request.py\u001b[0m in \u001b[0;36merror\u001b[0;34m(self, proto, *args)\u001b[0m\n\u001b[1;32m    569\u001b[0m             \u001b[0margs\u001b[0m \u001b[0;34m=\u001b[0m \u001b[0;34m(\u001b[0m\u001b[0mdict\u001b[0m\u001b[0;34m,\u001b[0m \u001b[0;34m'default'\u001b[0m\u001b[0;34m,\u001b[0m \u001b[0;34m'http_error_default'\u001b[0m\u001b[0;34m)\u001b[0m \u001b[0;34m+\u001b[0m \u001b[0morig_args\u001b[0m\u001b[0;34m\u001b[0m\u001b[0m\n\u001b[0;32m--> 570\u001b[0;31m             \u001b[0;32mreturn\u001b[0m \u001b[0mself\u001b[0m\u001b[0;34m.\u001b[0m\u001b[0m_call_chain\u001b[0m\u001b[0;34m(\u001b[0m\u001b[0;34m*\u001b[0m\u001b[0margs\u001b[0m\u001b[0;34m)\u001b[0m\u001b[0;34m\u001b[0m\u001b[0m\n\u001b[0m\u001b[1;32m    571\u001b[0m \u001b[0;34m\u001b[0m\u001b[0m\n",
      "\u001b[0;32m~/anaconda3/lib/python3.6/urllib/request.py\u001b[0m in \u001b[0;36m_call_chain\u001b[0;34m(self, chain, kind, meth_name, *args)\u001b[0m\n\u001b[1;32m    503\u001b[0m             \u001b[0mfunc\u001b[0m \u001b[0;34m=\u001b[0m \u001b[0mgetattr\u001b[0m\u001b[0;34m(\u001b[0m\u001b[0mhandler\u001b[0m\u001b[0;34m,\u001b[0m \u001b[0mmeth_name\u001b[0m\u001b[0;34m)\u001b[0m\u001b[0;34m\u001b[0m\u001b[0m\n\u001b[0;32m--> 504\u001b[0;31m             \u001b[0mresult\u001b[0m \u001b[0;34m=\u001b[0m \u001b[0mfunc\u001b[0m\u001b[0;34m(\u001b[0m\u001b[0;34m*\u001b[0m\u001b[0margs\u001b[0m\u001b[0;34m)\u001b[0m\u001b[0;34m\u001b[0m\u001b[0m\n\u001b[0m\u001b[1;32m    505\u001b[0m             \u001b[0;32mif\u001b[0m \u001b[0mresult\u001b[0m \u001b[0;32mis\u001b[0m \u001b[0;32mnot\u001b[0m \u001b[0;32mNone\u001b[0m\u001b[0;34m:\u001b[0m\u001b[0;34m\u001b[0m\u001b[0m\n",
      "\u001b[0;32m~/anaconda3/lib/python3.6/urllib/request.py\u001b[0m in \u001b[0;36mhttp_error_default\u001b[0;34m(self, req, fp, code, msg, hdrs)\u001b[0m\n\u001b[1;32m    649\u001b[0m     \u001b[0;32mdef\u001b[0m \u001b[0mhttp_error_default\u001b[0m\u001b[0;34m(\u001b[0m\u001b[0mself\u001b[0m\u001b[0;34m,\u001b[0m \u001b[0mreq\u001b[0m\u001b[0;34m,\u001b[0m \u001b[0mfp\u001b[0m\u001b[0;34m,\u001b[0m \u001b[0mcode\u001b[0m\u001b[0;34m,\u001b[0m \u001b[0mmsg\u001b[0m\u001b[0;34m,\u001b[0m \u001b[0mhdrs\u001b[0m\u001b[0;34m)\u001b[0m\u001b[0;34m:\u001b[0m\u001b[0;34m\u001b[0m\u001b[0m\n\u001b[0;32m--> 650\u001b[0;31m         \u001b[0;32mraise\u001b[0m \u001b[0mHTTPError\u001b[0m\u001b[0;34m(\u001b[0m\u001b[0mreq\u001b[0m\u001b[0;34m.\u001b[0m\u001b[0mfull_url\u001b[0m\u001b[0;34m,\u001b[0m \u001b[0mcode\u001b[0m\u001b[0;34m,\u001b[0m \u001b[0mmsg\u001b[0m\u001b[0;34m,\u001b[0m \u001b[0mhdrs\u001b[0m\u001b[0;34m,\u001b[0m \u001b[0mfp\u001b[0m\u001b[0;34m)\u001b[0m\u001b[0;34m\u001b[0m\u001b[0m\n\u001b[0m\u001b[1;32m    651\u001b[0m \u001b[0;34m\u001b[0m\u001b[0m\n",
      "\u001b[0;31mHTTPError\u001b[0m: HTTP Error 429: Too Many Requests",
      "\nDuring handling of the above exception, another exception occurred:\n",
      "\u001b[0;31mGeocoderQuotaExceeded\u001b[0m                     Traceback (most recent call last)",
      "\u001b[0;32m<ipython-input-61-cb2266ac15c5>\u001b[0m in \u001b[0;36m<module>\u001b[0;34m()\u001b[0m\n\u001b[1;32m     15\u001b[0m     \u001b[0mprint\u001b[0m\u001b[0;34m(\u001b[0m\u001b[0mi\u001b[0m\u001b[0;34m)\u001b[0m\u001b[0;34m\u001b[0m\u001b[0m\n\u001b[1;32m     16\u001b[0m     \u001b[0mgeolocator\u001b[0m \u001b[0;34m=\u001b[0m \u001b[0mNominatim\u001b[0m\u001b[0;34m(\u001b[0m\u001b[0muser_agent\u001b[0m\u001b[0;34m=\u001b[0m\u001b[0;34m\"Cyber-NCL\"\u001b[0m\u001b[0;34m)\u001b[0m\u001b[0;34m\u001b[0m\u001b[0m\n\u001b[0;32m---> 17\u001b[0;31m     \u001b[0mlocation\u001b[0m \u001b[0;34m=\u001b[0m \u001b[0mgeolocator\u001b[0m\u001b[0;34m.\u001b[0m\u001b[0mgeocode\u001b[0m\u001b[0;34m(\u001b[0m\u001b[0;34m\"PH\"\u001b[0m\u001b[0;34m)\u001b[0m\u001b[0;34m\u001b[0m\u001b[0m\n\u001b[0m\u001b[1;32m     18\u001b[0m     \u001b[0mlat\u001b[0m\u001b[0;34m.\u001b[0m\u001b[0mappend\u001b[0m\u001b[0;34m(\u001b[0m\u001b[0mstr\u001b[0m\u001b[0;34m(\u001b[0m\u001b[0mlocation\u001b[0m\u001b[0;34m.\u001b[0m\u001b[0mlatitude\u001b[0m\u001b[0;34m)\u001b[0m\u001b[0;34m)\u001b[0m\u001b[0;34m\u001b[0m\u001b[0m\n\u001b[1;32m     19\u001b[0m     \u001b[0mlon\u001b[0m\u001b[0;34m.\u001b[0m\u001b[0mappend\u001b[0m\u001b[0;34m(\u001b[0m\u001b[0mstr\u001b[0m\u001b[0;34m(\u001b[0m\u001b[0mlocation\u001b[0m\u001b[0;34m.\u001b[0m\u001b[0mlongitude\u001b[0m\u001b[0;34m)\u001b[0m\u001b[0;34m)\u001b[0m\u001b[0;34m\u001b[0m\u001b[0m\n",
      "\u001b[0;32m~/anaconda3/lib/python3.6/site-packages/geopy/geocoders/osm.py\u001b[0m in \u001b[0;36mgeocode\u001b[0;34m(self, query, exactly_one, timeout, limit, addressdetails, language, geometry, extratags)\u001b[0m\n\u001b[1;32m    305\u001b[0m \u001b[0;34m\u001b[0m\u001b[0m\n\u001b[1;32m    306\u001b[0m         return self._parse_json(\n\u001b[0;32m--> 307\u001b[0;31m             \u001b[0mself\u001b[0m\u001b[0;34m.\u001b[0m\u001b[0m_call_geocoder\u001b[0m\u001b[0;34m(\u001b[0m\u001b[0murl\u001b[0m\u001b[0;34m,\u001b[0m \u001b[0mtimeout\u001b[0m\u001b[0;34m=\u001b[0m\u001b[0mtimeout\u001b[0m\u001b[0;34m)\u001b[0m\u001b[0;34m,\u001b[0m \u001b[0mexactly_one\u001b[0m\u001b[0;34m\u001b[0m\u001b[0m\n\u001b[0m\u001b[1;32m    308\u001b[0m         )\n\u001b[1;32m    309\u001b[0m \u001b[0;34m\u001b[0m\u001b[0m\n",
      "\u001b[0;32m~/anaconda3/lib/python3.6/site-packages/geopy/geocoders/base.py\u001b[0m in \u001b[0;36m_call_geocoder\u001b[0;34m(self, url, timeout, raw, requester, deserializer, **kwargs)\u001b[0m\n\u001b[1;32m    360\u001b[0m                                 exc_info=False)\n\u001b[1;32m    361\u001b[0m                 \u001b[0;32mtry\u001b[0m\u001b[0;34m:\u001b[0m\u001b[0;34m\u001b[0m\u001b[0m\n\u001b[0;32m--> 362\u001b[0;31m                     \u001b[0;32mraise\u001b[0m \u001b[0mERROR_CODE_MAP\u001b[0m\u001b[0;34m[\u001b[0m\u001b[0mcode\u001b[0m\u001b[0;34m]\u001b[0m\u001b[0;34m(\u001b[0m\u001b[0mmessage\u001b[0m\u001b[0;34m)\u001b[0m\u001b[0;34m\u001b[0m\u001b[0m\n\u001b[0m\u001b[1;32m    363\u001b[0m                 \u001b[0;32mexcept\u001b[0m \u001b[0mKeyError\u001b[0m\u001b[0;34m:\u001b[0m\u001b[0;34m\u001b[0m\u001b[0m\n\u001b[1;32m    364\u001b[0m                     \u001b[0;32mraise\u001b[0m \u001b[0mGeocoderServiceError\u001b[0m\u001b[0;34m(\u001b[0m\u001b[0mmessage\u001b[0m\u001b[0;34m)\u001b[0m\u001b[0;34m\u001b[0m\u001b[0m\n",
      "\u001b[0;31mGeocoderQuotaExceeded\u001b[0m: HTTP Error 429: Too Many Requests"
     ]
    }
   ],
   "source": [
    "#cyber-security-1_enrolments.csv\n",
    "#which times we want to check\n",
    "t = 8\n",
    "#what type of content of data we want to check(refer to the EDA.check_files(path))\n",
    "dataName = 'enrolments'\n",
    "#Get the file we want to check\n",
    "timesName = '-' + str(t) + '_'\n",
    "fileName = '../data/raw/Engagement of Cyber Serurity/dataset201819/cyber-security' + timesName + dataName + '.csv'\n",
    "\n",
    "data = pd.read_csv(fileName)\n",
    "\n",
    "lat = []\n",
    "lon = []\n",
    "for i in data['detected_country']:\n",
    "    print(i)\n",
    "    geolocator = Nominatim(user_agent=\"Cyber-NCL\")\n",
    "    location = geolocator.geocode(\"PH\")\n",
    "    lat.append(str(location.latitude))\n",
    "    lon.append(str(location.longitude))"
   ]
  },
  {
   "cell_type": "code",
   "execution_count": 60,
   "metadata": {},
   "outputs": [
    {
     "data": {
      "text/html": [
       "<div>\n",
       "<style scoped>\n",
       "    .dataframe tbody tr th:only-of-type {\n",
       "        vertical-align: middle;\n",
       "    }\n",
       "\n",
       "    .dataframe tbody tr th {\n",
       "        vertical-align: top;\n",
       "    }\n",
       "\n",
       "    .dataframe thead th {\n",
       "        text-align: right;\n",
       "    }\n",
       "</style>\n",
       "<table border=\"1\" class=\"dataframe\">\n",
       "  <thead>\n",
       "    <tr style=\"text-align: right;\">\n",
       "      <th></th>\n",
       "      <th>learner_id</th>\n",
       "      <th>enrolled_at</th>\n",
       "      <th>unenrolled_at</th>\n",
       "      <th>role</th>\n",
       "      <th>fully_participated_at</th>\n",
       "      <th>purchased_statement_at</th>\n",
       "      <th>gender</th>\n",
       "      <th>country</th>\n",
       "      <th>age_range</th>\n",
       "      <th>highest_education_level</th>\n",
       "      <th>employment_status</th>\n",
       "      <th>employment_area</th>\n",
       "      <th>detected_country</th>\n",
       "    </tr>\n",
       "  </thead>\n",
       "  <tbody>\n",
       "    <tr>\n",
       "      <th>0</th>\n",
       "      <td>f0ebc6f6-0f25-407f-a528-834414186f59</td>\n",
       "      <td>2018-10-30 15:14:09 UTC</td>\n",
       "      <td>NaN</td>\n",
       "      <td>learner</td>\n",
       "      <td>NaN</td>\n",
       "      <td>NaN</td>\n",
       "      <td>Unknown</td>\n",
       "      <td>Unknown</td>\n",
       "      <td>Unknown</td>\n",
       "      <td>Unknown</td>\n",
       "      <td>Unknown</td>\n",
       "      <td>Unknown</td>\n",
       "      <td>GB</td>\n",
       "    </tr>\n",
       "    <tr>\n",
       "      <th>1</th>\n",
       "      <td>0fa1c614-8a49-42a7-a02a-8b866076d552</td>\n",
       "      <td>2018-10-25 12:23:45 UTC</td>\n",
       "      <td>NaN</td>\n",
       "      <td>learner</td>\n",
       "      <td>NaN</td>\n",
       "      <td>NaN</td>\n",
       "      <td>Unknown</td>\n",
       "      <td>Unknown</td>\n",
       "      <td>Unknown</td>\n",
       "      <td>Unknown</td>\n",
       "      <td>Unknown</td>\n",
       "      <td>Unknown</td>\n",
       "      <td>GB</td>\n",
       "    </tr>\n",
       "  </tbody>\n",
       "</table>\n",
       "</div>"
      ],
      "text/plain": [
       "                             learner_id              enrolled_at  \\\n",
       "0  f0ebc6f6-0f25-407f-a528-834414186f59  2018-10-30 15:14:09 UTC   \n",
       "1  0fa1c614-8a49-42a7-a02a-8b866076d552  2018-10-25 12:23:45 UTC   \n",
       "\n",
       "   unenrolled_at     role  fully_participated_at  purchased_statement_at  \\\n",
       "0            NaN  learner                    NaN                     NaN   \n",
       "1            NaN  learner                    NaN                     NaN   \n",
       "\n",
       "    gender  country age_range highest_education_level employment_status  \\\n",
       "0  Unknown  Unknown   Unknown                 Unknown           Unknown   \n",
       "1  Unknown  Unknown   Unknown                 Unknown           Unknown   \n",
       "\n",
       "  employment_area detected_country  \n",
       "0         Unknown               GB  \n",
       "1         Unknown               GB  "
      ]
     },
     "execution_count": 60,
     "metadata": {},
     "output_type": "execute_result"
    }
   ],
   "source": [
    "data.head()"
   ]
  },
  {
   "cell_type": "code",
   "execution_count": 15,
   "metadata": {},
   "outputs": [
    {
     "name": "stdout",
     "output_type": "stream",
     "text": [
      "Philippine Continental Shelf, Philippines\n",
      "(12.44249325, 122.160395163807)\n"
     ]
    }
   ],
   "source": [
    "geolocator = Nominatim(user_agent=\"Cyber-Sercurity-NCL\")\n",
    "location = geolocator.geocode(\"PH\")\n",
    "print((location.latitude, location.longitude))\n",
    "\n"
   ]
  },
  {
   "cell_type": "code",
   "execution_count": null,
   "metadata": {},
   "outputs": [],
   "source": [
    "import plotly.plotly as py\n",
    "from plotly.graph_objs import *\n",
    "py.sign_in('haoran88', 'plotly123')\n",
    "trace1 = {\n",
    "  \"lat\": [\"-62.203\", \"-62.211\", \"41.577119\", \"41.576669\", \"41.576128\", \"41.57515\", \"41.586288\", \"41.575744\", \"41.574333\", \"22.3\", \"59.9848\", \"57.261\", \"57.4887\", \"57.6128\", \"34.0\", \"59.283333\", \"59.516667\", \"27.3699966666667\", \"28.7120933333333\", \"28.7386966666667\", \"29.29018\", \"36.28\", \"39.36\", \"37.79\", \"36.96\", \"36.63\", \"36.6\", \"-33.71889\", \"-33.75278\", \"27.35\", \"27.0\", \"28.6722\", \"26.81\", \"79.0\", \"36.88\", \"37.9\", \"72.004\", \"72.004\", \"72.003\", \"72.005\", \"41.999273\", \"42.288834\", \"38.78548\", \"37.1\", \"36.6\", \"37.2\", \"37.5\", \"30.5\", \"41.6147\", \"42.0220009\", \"42.0220009\", \"42.0220009\", \"42.0220009\", \"42.0220009\", \"42.0220009\", \"42.0220009\", \"42.0220009\", \"42.0220009\", \"42.0220009\", \"42.0220009\", \"28.52\", \"71.2\", \"31.13\", \"59.2924\", \"47.801667\", \"39.41028\", \"39.47778\", \"38.8025\", \"39.41028\", \"39.15056\", \"38.543864\", \"38.79778\", \"38.83583\", \"38.58575\", \"47.11526\", \"46.34087\", \"44.82148\", \"47.75932\", \"37.5106\", \"-33.94666\", \"23.13\", \"23.13\", \"-3.424616\", \"-3.44\", \"30.4\", \"30.56\", \"31.0\", \"-3.4246\", \"40.49\", \"26.2516\", \"28.875\", \"55.745067\", \"42.540667\", \"30.73\", \"40.017\", \"40.013\", \"39.74559\", \"39.99026\", \"40.04059\", \"21.15\", \"46.73\", \"40.4419\", \"37.15\", \"37.889\", \"41.676\", \"28.917\", \"42.611\", \"37.78\", \"28.814\", \"45.052\", \"45.52\", \"41.717\", \"37.621\", \"35.525\", \"41.15\", \"46.4911\", \"-23.4425\", \"39.044\", \"38.053\", \"43.136\", \"45.298\", \"45.225\", \"39.55\", \"39.553\", \"41.456\", \"43.022\", \"45.617\", \"45.636\", \"35.298\", \"34.102\", \"42.888\", \"27.526\", \"34.018\", \"33.977\", \"37.67\", \"41.343\", \"37.919\", \"37.936\", \"34.417\", \"45.723\", \"43.064\", \"45.668\", \"40.456\", \"35.188\", \"42.047\", \"41.611\", \"44.472\", \"40.839\", \"30.279\", \"34.034\", \"43.036\", \"32.73\", \"44.924\", \"44.666\", \"44.798\", \"39.731\", \"58.286\", \"58.364\", \"38.833\", \"24.569\", \"26.741\", \"37.453\", \"46.324\", \"40.496\", \"34.002\", \"41.338\", \"39.808\", \"33.395\", \"24.746\", \"41.243\", \"46.88\", \"41.12\", \"47.521\", \"21.306\", \"21.331\", \"34.885\", \"32.627\", \"32.533\", \"32.536\", \"36.951\", \"25.086\", \"38.992\", \"14.162464\", \"14.162465\", \"14.162465\", \"14.162464\", \"14.162464\", \"14.162465\", \"14.162465\", \"14.162463\", \"14.162464\", \"14.162466\", \"14.162468\", \"-23.5284\", \"-23.5278\", \"31.3\", \"31.3\", \"31.3\", \"31.3\", \"31.3\", \"31.3\", \"31.3\", \"31.3\", \"31.3\", \"39.0889\", \"41.6249\", \"34.7221\", \"32.5576\", \"41.5806\", \"30.14\", \"44.5700585\", \"40.8114953\", \"37.8629\", \"40.09\", \"37.2\", \"36.401166\", \"21.3799\", \"43.333\", \"41.841\", \"35.16\", \"31.72528\", \"31.73\", \"13.24\", \"43.050297\", \"43.0827949\", \"43.223368\", \"43.090513\", \"43.062041\", \"43.667666\", \"44.210906\", \"51.33\", \"51.47\", \"51.43\", \"51.27\", \"51.19\", \"51.22\", \"51.16\", \"51.45\", \"-41.05\", \"43.12\", \"30.04\", \"41.584167\", \"44.9179\", \"44.5669\", \"41.6827\", \"29.15\", \"29.36\", \"29.91\", \"30.21\", \"29.24\", \"29.37\", \"21.653\", \"21.43\", \"33.79\", \"44.669562\", \"44.570284\", \"44.568511\", \"44.669445\", \"44.667061\", \"40.8114953333\", \"44.670084\", \"44.667079\", \"44.44867\", \"44.669382\", \"44.670057\", \"44.667582\", \"44.667744\", \"44.67012\", \"8.92986633333333\", \"44.670075\", \"44.567899\", \"44.451163\", \"44.447635\", \"44.568457\", \"44.669535\", \"44.669481\", \"44.669481\", \"44.667106\", \"44.667151\", \"44.669463\", \"44.669499\", \"9.031787\", \"44.570239\", \"8.92324233333333\", \"44.567845\", \"44.568367\", \"44.669535\", \"44.570302\", \"44.667636\", \"44.568484\", \"44.668842\", \"44.667088\", \"40.01\", \"10.099\", \"8.57\", \"38.0\", \"40.11\", \"40.11\", \"24.9511\", \"-77.8902\", \"45.93\", \"37.6\", \"37.6\", \"41.88196\", \"39.0\", \"37.0\", \"35.0\", \"42.28\", \"32.704313\", \"-54.81\", \"29.549155\", \"24.96822\", \"25.02004\", \"24.94952\", \"19.9429\", \"36.9988\", \"61.17\", \"48.7269\", \"48.6909\", \"39.92\", \"29.2868\", \"36.09\", \"32.0\", \"38.0\", \"35.0\", \"38.0\", \"37.0\", \"36.0\", \"36.0\", \"36.0\", \"35.0\", \"34.0\", \"33.0\", \"27.0\", \"30.0\", \"30.0\", \"30.0\", \"31.0\", \"31.0\", \"32.0\", \"31.0\", \"39.73\", \"39.0\", \"24.52778\", \"24.5425\", \"24.544444\", \"24.544444\", \"24.633611\", \"24.634444\", \"24.638056\", \"24.641111\", \"24.705\", \"46.3472\", \"56.2333\", \"41.41858333\", \"-0.84115\", \"-0.84115\", \"-0.8413\", \"-3.77928\", \"-3.77928\", \"-3.77923\", \"-3.77874\", \"-3.77886\", \"-3.77886\", \"-3.77886\", \"-3.77894\", \"54.1831\", \"-0.6324\", \"-0.63203\", \"-0.63203\", \"-3.77894\", \"-3.77894\", \"-25.87489\", \"-25.87489\", \"-25.87478\", \"-4.44803\", \"-4.44803\", \"-4.69245\", \"-4.69201\", \"-4.69193\", \"-4.69152\", \"-4.69152\", \"-4.69152\", \"-25.87483\", \"-25.87483\", \"-25.87477\", \"-4.44646\", \"-4.4473\", \"-4.4473\", \"-4.44649\", \"-4.44649\", \"-4.44646\", \"-4.44646\", \"-4.44798\", \"-25.54879\", \"-0.63225\", \"-0.63225\", \"-0.63225\", \"-25.54879\", \"-25.54879\", \"-25.5487\", \"-0.63203\", \"-0.63225\", \"-0.63225\", \"-0.63246\", \"-0.63246\", \"31.0985\", \"31.2587\", \"31.21\", \"51.07\", \"38.5539\", \"55.03432\", \"22.15\", \"43.33\", \"31.2827\", \"30.64\", \"51.4595\", \"40.7\", \"48.61387\", \"1.805833\", \"41.998508\", \"31.67\", \"43.026\", \"43.0084\", \"43.0485\", \"23.01\", \"44.597\", \"30.9\", \"48.6\", \"25.36\", \"18.32428\", \"38.11\", \"31.59\", \"43.674125\", \"49.0\", \"39.8\", \"29.3\", \"39.91\", \"14.17\", \"14.17\", \"14.17\", \"14.17\", \"14.17\", \"14.15\", \"14.15\", \"14.16\", \"14.15\", \"14.16\", \"14.16\", \"14.17\", \"14.16\", \"14.16\", \"29.67\", \"52.211944\", \"53.761944\", \"51.761944\", \"41.975674\", \"42.01934\", \"42.040634\", \"41.943236\", \"41.964825\", \"41.974264\", \"42.00716\", \"36.4\", \"54.174181\", \"51.019212\", \"23.08\", \"33.0\", \"9.5\", \"42.1337\", \"40.48\", \"40.4781\", \"44.764\", \"44.78\", \"44.832\", \"44.886\", \"44.891\", \"44.919\", \"44.929\", \"44.952\", \"44.955\", \"44.968\", \"44.993\", \"40.4969\", \"45.76\", \"31.64\", \"23.12\", \"23.12\", \"23.12\", \"23.12\", \"23.12\", \"23.12\", \"23.12\", \"28.93\", \"25.072716\", \"36.15\", \"36.23\", \"31.06\", \"35.78\", \"29.72\", \"37.147\", \"43.45257\", \"43.484946\", \"40.72\", \"36.75\", \"63.7\", \"31.5292\", \"60.03\", \"-34.17\", \"31.1\", \"28.87\", \"35.59\", \"-78.1\", \"-78.08\", \"-78.18\", \"-79.5\", \"-4.25\", \"33.433647\", \"35.0\", \"31.0\", \"54.6305\", \"54.38\", \"54.2569\", \"-32.9169\", \"-32.9249\", \"34.475633\", \"34.17\", \"31.5\", \"-33.96661\", \"-7.62\", \"-64.5158\", \"-63.41708\", \"-64.38596\", \"-64.34361\", \"-62.53536\", \"-63.48389\", \"-64.01938\", \"-65.00925\", \"-71.45047\", \"-71.4234\", \"-73.158249\", \"-63.44286\", \"-63.44296\", \"-63.58397\", \"41.882115\", \"42.018941\", \"41.966378\", \"41.500622\", \"40.472499\", \"41.742601\", \"41.844672\", \"41.697051\", \"42.022001\", \"37.872876\", \"30.44\", \"33.47\", \"41.323048\", \"22.0\", \"61.6019\", \"29.26583\", \"29.27653\", \"29.302883\", \"29.2801\", \"29.2964\", \"29.3099\", \"29.4623\", \"29.28895\", \"29.29135\", \"39.9833\", \"24.77\", \"24.86\", \"25.91\", \"25.8\", \"25.75\", \"25.7\", \"25.65\", \"42.4873\", \"42.5651\", \"29.0\", \"31.28\", \"-22.28\", \"35.0\", \"39.59548\", \"48.7491542\", \"35.520392\", \"39.12\", \"33.0\", \"37.423109\", \"35.940892\", \"31.51\", \"31.53\", \"31.04\", \"30.88\", \"31.77\", \"28.8\", \"30.35\", \"29.81\", \"30.18\", \"30.35\", \"26.57\", \"29.33\", \"30.77\", \"30.74\", \"29.42\", \"29.07\", \"28.91\", \"28.67\", \"32.83\", \"32.51\", \"30.85\", \"32.03\", \"30.38\", \"30.57\", \"32.66\", \"29.74\", \"29.08\", \"29.44\", \"29.21\", \"28.65\", \"28.65\", \"29.18\", \"28.77\", \"28.9\", \"29.02\", \"29.62\", \"30.29\", \"29.45\", \"29.67\", \"30.62\", \"29.74\", \"30.78\", \"26.88\", \"31.46\", \"31.77\", \"32.17\", \"32.18\", \"41.82\", \"22.77\", \"38.88\", \"-33.73442\", \"56.985213\", \"30.57\", \"30.5\", \"30.4\", \"30.23\", \"29.36\", \"29.66\", \"28.91\", \"28.84\", \"29.91\", \"43.58\", \"34.36\", \"32.614\", \"52.32\", \"49.25\", \"22.3\", \"35.0\", \"32.82\", \"40.52\", \"33.83\", \"39.88\", \"42.35\", \"40.15\", \"41.51\", \"35.25\", \"37.76\", \"44.78\", \"40.32\", \"37.76\", \"36.15\", \"40.11\", \"43.02\", \"40.47\", \"28.21\", \"26.34\", \"27.01\", \"27.01\", \"28.68\", \"27.1\", \"28.71\", \"28.45\", \"27.13\", \"26.56\", \"27.01\", \"61.5833\", \"38.25\", \"30.16\", \"71.07\", \"71.08\", \"28.07\", \"28.07\", \"28.07\", \"28.07\", \"28.07\", \"28.07\", \"31.27\", \"22.28\", \"-18.13\", \"35.6217\", \"25.5\", \"36.23\", \"27.6797\", \"39.1957\", \"39.93\", \"35.544042\", \"35.564246\", \"35.62305\", \"58.4108\", \"54.180511\", \"32.63\", \"45.394187\", \"45.439455\", \"45.394754\", \"43.250133\", \"40.1139\", \"41.397493\", \"70.647\", \"71.718\", \"71.603\", \"71.242\", \"70.141\", \"70.772\", \"71.023\", \"71.118\", \"45.87\", \"-33.846295\", \"-33.843306\", \"-33.850136\", \"-33.853683\", \"-33.845312\", \"43.0693\", \"43.123078\", \"40.439881\", \"37.708611\", \"24.2275\", \"24.2272\", \"19.99857777777778\", \"19.997952777777776\", \"41.35174\", \"41.35178\", \"41.35173\", \"41.351\", \"41.35177\", \"41.35177\", \"41.35177\", \"41.35177\", \"41.35177\", \"41.35177\", \"41.35177\", \"41.35177\", \"41.35177\", \"41.35177\", \"41.35177\", \"-31.86111\", \"-31.86344\", \"-18.610732\", \"32.2\", \"23.568472\", \"22.305277\", \"28.62\", \"31.01\", \"30.03\", \"29.74\", \"33.0\", \"33.04\", \"41.201381\", \"41.374667\", \"41.162835\", \"41.285065\", \"37.758\", \"37.749\", \"38.831\", \"39.0367\", \"-20.526\", \"42.35\", \"42.17\", \"13.32222\", \"36.9747\", \"30.5822\", \"43.19\", \"43.17\", \"-32.9483\", \"23.7\", \"23.7\"], \n",
    "  \"latsrc\": \"ianpgm:26:aaf71c\", \n",
    "  \"lon\": [\"-58.939\", \"-58.953\", \"-70.640808\", \"-70.638272\", \"-70.633908\", \"-70.635372\", \"-70.639861\", \"-70.641714\", \"-70.641886\", \"114.1\", \"3.036\", \"8.732\", \"7.1\", \"8.5818\", \"45.0\", \"12.0\", \"18.033\", \"-90.5710033333333\", \"-88.32414\", \"-88.3661966666667\", \"-90.60365\", \"-121.86\", \"-123.82\", \"-122.49\", \"-122.02\", \"-121.92\", \"-121.89\", \"26.00306\", \"25.88472\", \"-111.28\", \"-111.24\", \"-88.4765\", \"119.7\", \"12.0\", \"99.66\", \"95.4\", \"14.727\", \"14.725\", \"14.731\", \"14.724\", \"-87.779868\", \"-88.366064\", \"-75.10442\", \"97.6\", \"100.6\", \"96.8\", \"95.3\", \"112.8\", \"-87.3252\", \"-87.710166\", \"-87.7101661\", \"-87.7101662\", \"-87.7101663\", \"-87.7101664\", \"-87.7101665\", \"-87.7101666\", \"-87.7101667\", \"-87.7101668\", \"-87.7101669\", \"-87.710167\", \"-121.4\", \"-156.41\", \"121.28\", \"18.0142\", \"16.783889\", \"-121.74667\", \"-122.17889\", \"-121.45583\", \"-121.75139\", \"-121.98417\", \"-121.81223\", \"-121.435\", \"-121.56778\", \"-121.596911\", \"18.88356\", \"18.88387\", \"21.33391\", \"18.14311\", \"-122.5097\", \"25.66555\", \"113.26\", \"113.27\", \"36.6795\", \"36.68\", \"120.58\", \"120.7\", \"120.0\", \"36.6796\", \"-78.01\", \"-80.0623\", \"-90.428\", \"12.097217\", \"3.419167\", \"-122.44\", \"116.379\", \"116.385\", \"50.4806\", \"51.500808\", \"51.347301\", \"79.09\", \"-117.0\", \"-86.9125\", \"-82.4567\", \"-121.584\", \"-71.193\", \"-95.378\", \"-70.68\", \"-86.469\", \"-97.849\", \"-93.784\", \"-122.682\", \"-73.936\", \"-82.166\", \"-97.752\", \"1.167\", \"9.1745\", \"151.91331\", \"-96.819\", \"-87.289\", \"-95.132\", \"-93.775\", \"-93.661\", \"-84.24\", \"-84.319\", \"-81.475\", \"-87.9\", \"-122.626\", \"-122.694\", \"-97.485\", \"-98.562\", \"-87.846\", \"-82.596\", \"-84.227\", \"-84.267\", \"-82.275\", \"-72.097\", \"-122.378\", \"-121.328\", \"-119.686\", \"-111.069\", \"-76.178\", \"-118.837\", \"-78.426\", \"-90.055\", \"71.006\", \"-91.506\", \"-73.22\", \"-96.688\", \"-97.651\", \"-118.023\", \"-89.357\", \"-114.664\", \"-93.046\", \"-93.104\", \"-93.431\", \"-94.866\", \"-134.385\", \"-134.599\", \"-97.607\", \"-81.797\", \"-80.132\", \"-122.111\", \"-122.73\", \"-108.858\", \"-84.392\", \"-105.605\", \"-104.956\", \"-81.976\", \"-80.983\", \"-73.677\", \"-114.042\", \"-74.164\", \"-111.299\", \"-157.882\", \"-158.037\", \"-94.616\", \"-85.544\", \"-94.932\", \"-85.509\", \"-82.467\", \"-80.448\", \"-96.866\", \"121.259525\", \"121.259525\", \"121.259524\", \"121.259524\", \"121.259526\", \"121.259526\", \"121.259527\", \"121.259525\", \"121.259529\", \"121.259529\", \"121.259528\", \"-64.2701\", \"-64.2685\", \"120.11\", \"120.12\", \"120.13\", \"120.14\", \"120.15\", \"120.16\", \"120.17\", \"120.18\", \"120.19\", \"-75.4363\", \"-71.3228\", \"-76.6798\", \"-80.4365\", \"-70.5198\", \"120.09\", \"-125.147483\", \"-124.610823\", \"-122.3132\", \"116.22\", \"-116.48\", \"-116.468\", \"-100.03\", \"-76.8392\", \"-82.917\", \"139.61\", \"121.23752\", \"121.27\", \"144.43\", \"-86.245033\", \"-86.2539433\", \"-86.337708\", \"-87.873031\", \"-87.872869\", \"-87.714781\", \"-87.50702\", \"3.13\", \"3.06\", \"2.81\", \"2.61\", \"2.7\", \"2.86\", \"2.71\", \"2.61\", \"-71.57\", \"13.35\", \"119.54\", \"-71.3675\", \"-93.129\", \"-92.5377\", \"-73.8929\", \"122.0\", \"122.26\", \"122.29\", \"122.32\", \"122.1\", \"122.33\", \"88.327\", \"-157.79\", \"-118.67\", \"-125.103934\", \"-125.152849\", \"-125.152648\", \"-125.098132\", \"-125.09997\", \"-124.610823\", \"-125.098686\", \"-125.10002\", \"-125.030466\", \"-125.103619\", \"-125.098749\", \"-125.100712\", \"-125.100926\", \"-125.098686\", \"-84.3130256666667\", \"-125.098674\", \"-125.153101\", \"-125.027987\", \"-125.02839\", \"-125.152761\", \"-125.098158\", \"-125.098107\", \"-125.098095\", \"-125.09997\", \"-125.10002\", \"-125.09812\", \"-125.09822\", \"-84.621334\", \"-125.147023\", \"-84.3037466666667\", \"-125.153038\", \"-125.152774\", \"-125.103946\", \"-125.152786\", \"-125.100737\", \"-125.152635\", \"-125.108653\", \"-125.099995\", \"105.2\", \"21.696\", \"40.24\", \"121.1\", \"-88.23\", \"-88.21\", \"98.43597\", \"167.0083\", \"-129.98\", \"120.33\", \"120.34\", \"123.251202\", \"117.0\", \"116.0\", \"119.0\", \"-83.73\", \"-117.238174\", \"-68.29\", \"34.956275\", \"102.64772\", \"102.66721\", \"102.66082\", \"40.1374\", \"-7.8254\", \"24.79\", \"-3.9766\", \"-3.9569\", \"116.46\", \"-90.8883\", \"120.15\", \"125.0\", \"121.0\", \"124.0\", \"123.0\", \"123.0\", \"124.0\", \"122.0\", \"123.0\", \"120.0\", \"122.0\", \"124.0\", \"123.0\", \"125.0\", \"124.0\", \"123.0\", \"126.0\", \"123.0\", \"124.0\", \"122.0\", \"115.95\", \"121.85\", \"118.07806\", \"118.055833\", \"118.040556\", \"118.048056\", \"118.180833\", \"118.179722\", \"118.182222\", \"118.184444\", \"118.15825\", \"-120.2658\", \"9.5167\", \"-81.15888333\", \"-46.6401\", \"-46.64011\", \"-46.640234\", \"-38.43966\", \"-38.43967\", \"-38.44005\", \"-38.44012\", \"-38.43938\", \"-38.43939\", \"-38.4394\", \"-38.4397\", \"7.8897\", \"-47.36278\", \"-47.36262\", \"-47.36261\", \"-38.43972\", \"-38.43971\", \"-48.62768\", \"-48.62767\", \"-48.62752\", \"-37.78156\", \"-37.78154\", \"-37.35206\", \"-37.35395\", \"-37.35314\", \"-37.35297\", \"-37.35296\", \"-37.35295\", \"-48.62782\", \"-48.62781\", \"-48.62768\", \"-37.78129\", \"-37.78146\", \"-37.78145\", \"-37.78138\", \"-37.78137\", \"-37.78131\", \"-37.7813\", \"-37.78177\", \"-48.47174\", \"-47.36213\", \"-47.36212\", \"-47.36211\", \"-48.47173\", \"-48.47172\", \"-48.47156\", \"-47.3626\", \"-47.36247\", \"-47.36246\", \"-47.36226\", \"-47.36225\", \"120.3356\", \"120.3272\", \"34.27\", \"4.53\", \"-121.7381\", \"8.42428\", \"114.1\", \"116.37\", \"121.5076\", \"114.21\", \"4.08026\", \"123.7\", \"-1.74368\", \"-86.191389\", \"-87.657758\", \"117.57\", \"-87.8818\", \"-87.908\", \"-87.9117\", \"114.1\", \"8.7833\", \"121.2\", \"-123.5\", \"113.0\", \"-65.8135\", \"-121.65\", \"120.92\", \"-72.273013\", \"-123.0\", \"116.5\", \"121.4\", \"116.43\", \"121.28\", \"121.29\", \"121.26\", \"121.24\", \"121.27\", \"121.25\", \"121.28\", \"121.29\", \"121.26\", \"121.26\", \"121.28\", \"121.25\", \"121.27\", \"121.24\", \"107.69\", \"2.317222\", \"1.300556\", \"1.267222\", \"-87.704725\", \"-87.710233\", \"-87.70974\", \"-87.695103\", \"-87.697167\", \"-87.70602\", \"-87.791212\", \"117.0\", \"7.884658\", \"2.137927\", \"113.25\", \"118.0\", \"-104.17\", \"-81.243\", \"17.2783\", \"17.2369\", \"12.461\", \"12.437\", \"12.487\", \"12.558\", \"12.538\", \"12.573\", \"12.558\", \"12.585\", \"12.573\", \"12.571\", \"12.556\", \"17.2619\", \"126.69\", \"120.74\", \"113.42\", \"113.29\", \"113.28\", \"113.56\", \"113.54\", \"113.53\", \"113.37\", \"105.46\", \"121.51015\", \"117.05\", \"117.05\", \"120.48\", \"-78.63\", \"121.63\", \"96.983\", \"5.230085\", \"5.188452\", \"-81.87\", \"118.12\", \"25.9\", \"107.7697\", \"17.57\", \"143.36\", \"120.22000000000003\", \"-90.5\", \"-79.0\", \"165.03\", \"164.14\", \"163.38\", \"159.0\", \"39.3\", \"-111.88047\", \"-80.0\", \"118.0\", \"18.831833\", \"18.933333\", \"18.9456\", \"151.7694\", \"151.7712\", \"-91.418642\", \"-77.82\", \"120.37\", \"151.25725\", \"102.47\", \"-62.34183\", \"-56.49786\", \"-62.14854\", \"-61.38131\", \"-59.08836\", \"-60.2876\", \"-56.44577\", \"-63.16279\", \"-102.15937\", \"-91.4268\", \"-129.26919\", \"-57.2358\", \"-57.23574\", \"-56.33443\", \"-87.958971\", \"-87.936844\", \"-88.164977\", \"-87.465937\", \"-89.027478\", \"-88.067654\", \"-88.145531\", \"-88.160473\", \"-87.710166\", \"-122.25921399999999\", \"112.72\", \"-118.4\", \"6.3343549999999595\", \"114.0\", \"-149.11720000000003\", \"-90.02487\", \"-89.97535\", \"-89.97092\", \"-89.97583\", \"-90.54977\", \"-90.59943\", \"-89.8729\", \"-90.04267\", \"-90.60293\", \"-82.98329999999999\", \"102.69\", \"102.71\", \"100.15\", \"100.15\", \"100.19\", \"100.24\", \"100.24\", \"-85.2479\", \"-85.6135\", \"108.0\", \"120.12\", \"166.26\", \"114.24\", \"49.28775\", \"2.318302899999935\", \"139.619459\", \"117.18\", \"119.0\", \"138.778282\", \"-84.336152\", \"107.67\", \"107.77\", \"110.4\", \"110.9\", \"120.96\", \"104.42\", \"106.28\", \"106.46\", \"105.84\", \"106.58\", \"101.7\", \"107.76\", \"111.31\", \"111.29\", \"113.13\", \"112.29\", \"112.06\", \"112.87\", \"110.11\", \"111.51\", \"111.12\", \"112.15\", \"113.45\", \"114.23\", \"111.66\", \"116.21\", \"116.37\", \"116.04\", \"116.22\", \"104.17\", \"104.38\", \"116.01\", \"104.65\", \"105.55\", \"105.85\", \"106.6\", \"112.26\", \"113.15\", \"113.32\", \"114.32\", \"116.0\", \"117.64\", \"99.98\", \"118.34\", \"118.47\", \"118.94\", \"119.66\", \"-87.77\", \"112.95\", \"-77.02\", \"18.9621\", \"-111.47803\", \"122.25\", \"121.78\", \"121.35\", \"121.93\", \"122.33\", \"121.85\", \"122.25\", \"122.22\", \"122.2\", \"-71.35\", \"109.12\", \"120.857\", \"5.55\", \"-123.1\", \"114.2\", \"136.0\", \"-97.04\", \"-88.98\", \"-118.26\", \"-88.93\", \"-70.96\", \"-87.61\", \"-90.49\", \"-97.32\", \"-122.21\", \"-89.61\", \"-88.12\", \"-122.43\", \"-95.86\", \"-88.2\", \"-88.25\", \"-86.91\", \"109.45\", \"112.27\", \"112.79\", \"112.78\", \"112.86\", \"113.22\", \"112.97\", \"113.06\", \"113.24\", \"112.6\", \"112.86\", \"-4.25\", \"141.14\", \"121.11\", \"-156.83\", \"-156.82\", \"112.18\", \"112.19\", \"112.2\", \"112.21\", \"112.22\", \"112.23\", \"121.52\", \"114.14\", \"177.42\", \"139.572478\", \"101.24\", \"127.24\", \"85.3306\", \"141.5351\", \"116.1\", \"139.731186\", \"139.681754\", \"139.574517\", \"15.6214\", \"7.904978\", \"73.01\", \"-123.939629\", \"-123.954892\", \"-123.937759\", \"-86.2557\", \"-88.2267\", \"-0.05566873\", \"-164.502\", \"-161.777\", \"-162.201\", \"-163.403\", \"-163.051\", \"-165.628\", \"-164.877\", \"-163.806\", \"7.86\", \"151.20936\", \"151.254324\", \"151.212854\", \"151.245962\", \"151.280877\", \"-70.8634\", \"-70.872657\", \"-3.689409\", \"107.226944\", \"109.5328\", \"109.5306\", \"110.60908611111111\", \"110.60749166666666\", \"-70.38376\", \"-70.38376\", \"-70.38376\", \"-70.38376\", \"-70.38376007\", \"-70.38376005\", \"-70.38376006\", \"-70.38376008\", \"-70.383765\", \"-70.383762\", \"-70.383769\", \"-70.3837607\", \"-70.3837609\", \"-70.38379\", \"-70.383761\", \"115.7542\", \"115.7076\", \"146.486807\", \"119.29\", \"32.917056\", \"38.962777\", \"113.33\", \"116.92\", \"120.67\", \"121.64\", \"-117.57\", \"-117.57\", \"-81.57363\", \"-81.576539\", \"-81.584028\", \"-81.394336\", \"119.394\", \"119.651\", \"118.973\", \"-84.1381\", \"-70.712\", \"-8.44\", \"-8.36\", \"100.26365\", \"117.1701\", \"114.0293\", \"-70.33\", \"-70.35\", \"151.83472\", \"104.29\", \"104.28\"], \n",
    "  \"lonsrc\": \"ianpgm:26:0902d5\", \n",
    "  \"marker\": {\n",
    "    \"autocolorscale\": False, \n",
    "    \"cauto\": True, \n",
    "    \"cmax\": -0.968051786715, \n",
    "    \"cmin\": -6.35654732351, \n",
    "    \"color\": [\"-3.1575030924541854\", \"-4.255707016877324\", \"-3.852237134591946\", \"-2.822346357358675\", \"-3.275969207177538\", \"-2.4701351835256555\", \"-2.0072418862133223\", \"-3.727622243128221\", \"-3.774150771048396\", \"-4.31069114087638\", \"-3.0809867950201606\", \"-3.7627529299953055\", \"-3.6080985161200134\", \"-3.6548498464879637\", \"-4.978810700930062\", \"-2.549703768665826\", \"-2.5412225949291893\", \"-4.185752404268079\", \"-4.548213564475709\", \"-3.651084049287921\", \"-3.630834256382851\", \"-3.6593457295537952\", \"-3.1465932404191195\", \"-3.9883788141501877\", \"-3.7380665749346687\", \"-3.1605885788868204\", \"-4.1487416512809245\", \"-2.170141906600387\", \"-2.855418320721634\", \"-2.1394854960790837\", \"-1.5997798439455075\", \"-4.329754146925876\", \"-3.7595381185900334\", \"-2.445495334082287\", \"-2.897935223936192\", \"-4.2403321553103694\", \"-3.639353580752847\", \"-2.1233826998476437\", \"-2.218870891437319\", \"-3.4627300995463495\", \"-4.017276612331455\", \"-4.087246696328677\", \"-3.0920187330667432\", \"-3.2846310223503234\", \"-3.866857246637875\", \"-1.274269470339847\", \"-2.900865504673434\", \"-3.806942221321323\", \"-3.993568189206757\", \"-4.129011186239425\", \"-3.9296074504322624\", \"-3.689361907091345\", \"-3.663970771223131\", \"-3.7980132911049305\", \"-3.6206310200519014\", \"-5.204815410317576\", \"-2.5429528411568976\", \"-2.9891426890031605\", \"-2.3629574036155496\", \"-2.6580889034231547\", \"-3.922181679696163\", \"-6.000869458712629\", \"-4.309803919971486\", \"-4.151195298948196\", \"-4.20690839982342\", \"-3.4844692255082177\", \"-4.016824927962187\", \"-3.284924698907438\", \"-3.8509749771789825\", \"-3.6831870599779526\", \"-4.459670525209126\", \"-4.982966660701219\", \"-1.9412166268724866\", \"-2.4973271224977935\", \"-3.7838314576339958\", \"-3.9906043506531095\", \"-3.8130464883050283\", \"-3.7930905100987986\", \"-3.3357586625354863\", \"-2.8543061655750255\", \"-3.1667750919324886\", \"-3.612677814954427\", \"-3.48929282984819\", \"-3.0409676754605552\", \"-2.8218953933151902\", \"-3.9248473671873954\", \"-3.3099847659345\", \"-3.9697444500769716\", \"-5.373659632624958\", \"-3.113107315490897\", \"-2.820022165885763\", \"-3.217746728433112\", \"-5.252588192113577\", \"-4.090979145788844\", \"-2.776701132741665\", \"-4.125518182300533\", \"-3.6993719126430413\", \"-3.299289361882528\", \"-3.3040282676226593\", \"-3.697234128711279\", \"-4.634512015109101\", \"-4.673664139071248\", \"-2.9704579569053866\", \"-2.712442349462044\", \"-3.8445576796888354\", \"-2.2748740734474815\", \"-2.905394376196207\", \"-3.09707127477053\", \"-3.099618668234234\", \"-3.922316028835279\", \"-2.8761287672425646\", \"-3.182268083673266\", \"-2.9690195771823347\", \"-3.0244620435904865\", \"-3.7399954316907094\", \"-4.578396073130169\", \"-4.7594507517174005\", \"-3.0455003678468833\", \"-3.2538540730016496\", \"-3.998413383935726\", \"-3.0929171717845647\", \"-4.294136287716081\", \"-3.8861735888733873\", \"-3.231696441720423\", \"-3.052663833766504\", \"-4.127261172527331\", \"-3.5016632514602137\", \"-3.0459211056316318\", \"-3.265933411044913\", \"-2.319124809944511\", \"-3.719068965497104\", \"-2.9071450184319088\", \"-3.2099887319664857\", \"-3.0588927386870077\", \"-3.022450604592001\", \"-3.2064743223441012\", \"-3.0619773961234427\", \"-2.626585352924654\", \"-3.463850794983797\", \"-3.7443271634434154\", \"-3.2337165681265323\", \"-3.0570841042851797\", \"-2.8824629046498225\", \"-3.43535405339694\", \"-3.477090420906035\", \"-3.235498829033841\", \"-3.030078792106114\", \"-3.060145421821669\", \"-3.2750551768249974\", \"-3.727325440245884\", \"-3.2974169702441003\", \"-2.4647581757065926\", \"-3.569970118586033\", \"-3.328111947728649\", \"-3.7302396251234704\", \"-3.076914595189358\", \"-3.267994061323484\", \"-3.4419782054705736\", \"-2.243466354745161\", \"-3.2523233454828646\", \"-2.1316757293551536\", \"-2.8791675431333386\", \"-3.2519073731520116\", \"-3.316253428324104\", \"-3.1313367562972743\", \"-3.77269960305489\", \"-2.615523287393289\", \"-3.1847517498238944\", \"-2.2470325894856975\", \"-3.74146088754232\", \"-3.3548529365057087\", \"-3.1733383241544786\", \"-3.071980221078841\", \"-3.0434104504651627\", \"-2.9499974663943944\", \"-2.2399558039934804\", \"-2.744622794293345\", \"-2.981715275183945\", \"-2.7090065457293417\", \"-2.943273855700095\", \"-3.1024625255507914\", \"-4.018181392829336\", \"-3.5292162409125463\", \"-2.9541546171305892\", \"-2.904877743294356\", \"-4.09312646527793\", \"-3.555457144677477\", \"-3.389461200853757\", \"-2.5392553143767413\", \"-3.678973549637593\", \"-3.3979400086720375\", \"-3.9153486653080827\", \"-3.887673223693649\", \"-3.7839740449258072\", \"-3.6328957817492404\", \"-3.140688740180106\", \"-2.8974164096893715\", \"-2.5125181443290563\", \"-2.932834629134187\", \"-3.0993352494568174\", \"-4.126679398184601\", \"-3.6632301665439337\", \"-3.090013633473381\", \"-4.028260409112222\", \"-3.459864561761425\", \"-3.788446982227285\", \"-4.716698771296451\", \"-3.74580491546925\", \"-4.447331783887806\", \"-3.890718508156376\", \"-4.665546248849069\", \"-2.4429039483174906\", \"-2.759752616388063\", \"-3.8791662278746237\", \"-3.3688211502280723\", \"-4.334419008982047\", \"-4.73754891026957\", \"-4.251037138743839\", \"-4.1444808443322\", \"-3.525837661740787\", \"-5.2168113089247425\", \"-4.686132779630847\", \"-4.950781977329818\", \"-3.0556481294064004\", \"-4.498940737782249\", \"-3.69511542539935\", \"-3.153521239410809\", \"-3.2444460312255634\", \"-3.4734849723145462\", \"-3.3402339758442015\", \"-2.2723563623896696\", \"-4.568636235841013\", \"-4.46344155742847\", \"-5.309803919971486\", \"-4.447331783887806\", \"-3.0246040394988642\", \"-2.31087671040887\", \"-4.504455662453552\", \"-5.018181392829336\", \"-5.036684488613889\", \"-3.6287122740577877\", \"-2.587711020174314\", \"-3.6154082642811587\", \"-3.3532572055160674\", \"-2.9378201593043434\", \"-3.938819039822497\", \"-4.525783735923745\", \"-4.3223930472795065\", \"-4.096367483915762\", \"-4.440093374963888\", \"-4.473660722610156\", \"-4.211831628858833\", \"-4.135488918941608\", \"-4.325138859262188\", \"-3.67166729474165\", \"-3.962549596599049\", \"-3.8938465142093097\", \"-3.763334282924757\", \"-4.480172006224281\", \"-3.6274304149226166\", \"-3.48475554468696\", \"-3.236300283015903\", \"-3.790275931030703\", \"-4.039529222465701\", \"-4.440093374963888\", \"-4.82102305270683\", \"-4.274088367704952\", \"-4.448550002027125\", \"-3.933741181115628\", \"-4.707743928643524\", \"-4.380906669373258\", \"-1.8238323407889392\", \"-1.9098866183902499\", \"-4.482804102050026\", \"-2.0429761701704336\", \"-4.723538195826756\", \"-2.335597328339679\", \"-4.787812395596042\", \"-3.6320685077774124\", \"-2.940516481458211\", \"-3.316852058583528\", \"-3.963119701752425\", \"-3.2392813021117495\", \"-4.548213564475709\", \"-3.814537175583676\", \"-4.749579997691106\", \"-3.4014458487452006\", \"-3.3770837964044875\", \"-2.912286002416478\", \"-2.850621675221695\", \"-3.823882684057103\", \"-3.7063943968071817\", \"-4.806875401645539\", \"-2.9427166393449253\", \"-2.4018479485543462\", \"-4.294136287716081\", \"-3.1742344991575577\", \"-2.792741663363722\", \"-4.102372908709558\", \"-3.914559567854662\", \"-3.7053508355105373\", \"-2.519108257076709\", \"-2.107078464344667\", \"-4.069050968832477\", \"-3.2555622761721335\", \"-4.174573882232177\", \"-4.121478204498794\", \"-2.1976283370414205\", \"-3.7714405318065403\", \"-3.6246949412462657\", \"-3.3070147980066613\", \"-4.414539270491499\", \"-4.512861624522814\", \"-4.467245621007502\", \"-4.565431095965801\", \"-2.91635013200614\", \"-3.7043229659825347\", \"-3.2340387861837954\", \"-2.210652854417554\", \"-3.4227817309571513\", \"-2.935744229414028\", \"-3.0191366224191674\", \"-3.1192949949136493\", \"-4.287350298372789\", \"-3.696218795639262\", \"-4.5968794788241825\", \"-4.560667306169737\", \"-4.357535479757878\", \"-3.9316953730977273\", \"-4.168770306132937\", \"-3.5736563077814996\", \"-3.6587376444868926\", \"-3.0542045860219034\", \"-4.223298816011589\", \"-3.555688148234907\", \"-3.991016796184528\", \"-4.448550002027125\", \"-3.259994368345664\", \"-3.280972162096474\", \"-2.8067732431009866\", \"-2.75461023517237\", \"-4.806875401645539\", \"-4.982966660701219\", \"-3.665268871527288\", \"-3.2645815616004397\", \"-3.5654342893193203\", \"-3.063395788927528\", \"-3.9703930441873903\", \"-4.1438755557577\", \"-3.327109124059224\", \"-3.946698701492621\", \"-4.188424994129407\", \"-3.747338683195176\", \"-4.679853713888946\", \"-4.590066876668706\", \"-3.691418513772594\", \"-3.690674371240629\", \"-2.649706615772512\", \"-3.625456938710669\", \"-3.8378420012457384\", \"-4.018181392829336\", \"-3.3227873758594333\", \"-4.137272471682025\", \"-4.718966632752273\", \"-3.293486187717277\", \"-3.9171500286977663\", \"-4.1904402853647325\", \"-4.448550002027125\", \"-3.057234701623341\", \"-3.5098293443655604\", \"-4.055024091587952\", \"-3.646118375596401\", \"-3.565777711831231\", \"-3.0224698131078602\", \"-4.701146923590294\", \"-3.1621704942463915\", \"-3.4364690803931808\", \"-3.660377657196254\", \"-4.313363730737707\", \"-3.983986779516623\", \"-4.027797161620936\", \"-3.4415506438481303\", \"-3.514485835367035\", \"-4.333482019445119\", \"-3.904809719218013\", \"-3.6117833099347454\", \"-3.4613207213326835\", \"-3.9105612109540737\", \"-2.8814400011397767\", \"-3.721020167698598\", \"-4.467245621007502\", \"-3.5044709254671234\", \"-3.5283680292963426\", \"-3.9061897251282605\", \"-5.0675262353228465\", \"-3.4279012932391573\", \"-3.847873781702503\", \"-3.1454710978024534\", \"-3.68705716553085\", \"-4.512861624522814\", \"-4.064492734175287\", \"-3.181239817347064\", \"-3.942950407958337\", \"-2.8642934411489276\", \"-3.7722186695521005\", \"-3.1942531792634705\", \"-3.484797978401551\", \"-3.2884281126939316\", \"-3.024303100014602\", \"-3.605896945362677\", \"-3.122706995478914\", \"-3.1741015436929203\", \"-5.250263684430939\", \"-4.163675884293248\", \"-4.863279432843593\", \"-2.8336569314012694\", \"-2.445327348460607\", \"-4.104577453960592\", \"-3.197305617640199\", \"-3.608602597757029\", \"-2.8974133233641544\", \"-3.870052442719333\", \"-4.204815410317576\", \"-3.7790920819898295\", \"-3.5006030020113967\", \"-2.548173052675092\", \"-4.348721986001856\", \"-4.110138278741812\", \"-4.107905397309519\", \"-3.123164076316428\", \"-3.9706730496096165\", \"-2.4559102414684792\", \"-4.7121982700697735\", \"-4.987162775294828\", \"-3.917889926021601\", \"-3.068964424042488\", \"-3.4397632930590043\", \"-3.635081463805721\", \"-3.5926209941712206\", \"-3.189396540536279\", \"-3.5492491249116096\", \"-3.0804820802226303\", \"-2.5097904332242815\", \"-3.32602855867027\", \"-4.064996848546345\", \"-2.4003460295797896\", \"-3.8908400892678636\", \"-3.0097544086420616\", \"-2.86070634673225\", \"-3.3641755863011125\", \"-3.030136975923031\", \"-3.668819785065262\", \"-4.273272790973428\", \"-3.625286472242782\", \"-3.877485953932676\", \"-3.1850695270989844\", \"-4.363512103646634\", \"-4.151810883008602\", \"-4.055024091587952\", \"-2.994401701531565\", \"-4.473660722610156\", \"-3.966540054814108\", \"-2.536248216984513\", \"-2.8227409022648575\", \"-3.4718471987364534\", \"-5.431798275933005\", \"-4.117475462045119\", \"-3.6166856177431925\", \"-2.210229325550962\", \"-3.8424042315224884\", \"-4.580044251510242\", \"-4.348721986001856\", \"-4.009217308196862\", \"-3.66083884788271\", \"-4.354577730650908\", \"-4.540607512240769\", \"-4.716698771296451\", \"-3.879051158156989\", \"-4.092588639225414\", \"-3.8736217939111084\", \"-4.578396073130169\", \"-4.527243550682788\", \"-4.42712839779952\", \"-4.011441043121384\", \"-2.8146913447304507\", \"-4.628932137728264\", \"-3.7182396278000733\", \"-4.002613615602686\", \"-3.9096855030380744\", \"-3.0676906489312836\", \"-2.940018013427685\", \"-3.4032918711185225\", \"-3.629246421895497\", \"-4.671620396561262\", \"-4.924453038607469\", \"-2.5071424292556617\", \"-2.852752308672345\", \"-4.014573525916998\", \"-3.8790971823854727\", \"-3.1763803782484734\", \"-4.6439741428068775\", \"-2.462894867360289\", \"-0.9680517867145506\", \"-4.806875401645539\", \"-4.583359492661719\", \"-4.694648630553377\", \"-4.333482019445119\", \"-4.982966660701219\", \"-3.6936865093043316\", \"-3.093971658972632\", \"-5.452225294612178\", \"-4.097453220686009\", \"-5.201349354554731\", \"-4.935542010773082\", \"-3.4206657877269797\", \"-4.368556230986828\", \"-4.454692883534176\", \"-3.4598946138832525\", \"-4.1911141326401875\", \"-3.565139003441102\", \"-4.1791420105603\", \"-4.216096420727265\", \"-4.048662481204082\", \"-3.5634811548815333\", \"-3.7103709194310808\", \"-4.396855627379818\", \"-3.9328435587885058\", \"-3.745606624046133\", \"-4.306273051076353\", \"-4.330683119433888\", \"-2.703236336952575\", \"-4.795880017344075\", \"-3.6551010176107313\", \"-4.006123085058789\", \"-4.0343280287798935\", \"-3.397418083302323\", \"-4.15676722190199\", \"-3.407531219453239\", \"-4.924453038607469\", \"-4.283162276700476\", \"-5.404503778174425\", \"-3.5633985078069603\", \"-3.460068706666681\", \"-3.7030497604633608\", \"-3.795185701477721\", \"-3.114874086547472\", \"-3.8812427134460465\", \"-3.0717137594745076\", \"-4.372634143407267\", \"-4.671620396561262\", \"-2.840520636968843\", \"-3.004540752237769\", \"-3.4268904139020107\", \"-3.0710529232321977\", \"-4.431798275933005\", \"-4.453457336521869\", \"-3.5412277293137104\", \"-4.4089353929735005\", \"-5.844663962534939\", \"-3.603821583263163\", \"-2.6322286225213816\", \"-3.243710857432709\", \"-1.7521532618050943\", \"-2.9356962875915733\", \"-3.6762963033898486\", \"-3.9938335745145688\", \"-3.242417234361587\", \"-4.057495893831919\", \"-4.131943638176958\", \"-4.2441251443275085\", \"-4.51427857351842\", \"-3.419856545246426\", \"-3.096289415520459\", \"-3.8038791074016194\", \"-3.3019412322079034\", \"-3.280350567969213\", \"-4.517126416391246\", \"-4.268411234813262\", \"-4.13430394008393\", \"-2.7033420480401533\", \"-5.185086818724926\", \"-5.707743928643524\", \"-3.686042135388427\", \"-3.8284987944808386\", \"-2.6547050966311914\", \"-3.744775752520156\", \"-4.518557371497695\", \"-4.294992040666664\", \"-4.080398976215889\", \"-4.075720713938118\", \"-3.2357558509088533\", \"-3.6659465471717567\", \"-2.6391964947680386\", \"-3.7643099852029747\", \"-2.8454430502667942\", \"-2.0702638996944853\", \"-3.6503398401867058\", \"-3.1592492184908796\", \"-2.7423607773528946\", \"-2.4720681310574406\", \"-2.5970283317282257\", \"-2.849357750095543\", \"-3.773521250210649\", \"-3.1764846908621895\", \"-3.116685571320942\", \"-2.9822785987364426\", \"-2.780555109596235\", \"-2.976336904330413\", \"-2.6668406039663997\", \"-4.614393726401688\", \"-3.203774074604218\", \"-3.882215148222559\", \"-3.075561501815193\", \"-3.36085630034\", \"-3.6834886970199054\", \"-4.407823242604133\", \"-3.425107945638449\", \"-4.58838029403677\", \"-2.638082626365508\", \"-3.315298230514906\", \"-4.906578314837765\", \"-3.0166633390828674\", \"-3.746972315860304\", \"-2.4817292014766785\", \"-3.407041993504323\", \"-4.333482019445119\", \"-3.1463887774827217\", \"-3.6288582215538185\", \"-3.8732583458208762\", \"-3.3195176310291976\", \"-4.017276612331455\", \"-3.4187366116908486\", \"-3.775596442235161\", \"-4.140261433802853\", \"-2.9891134635349053\", \"-3.3855172480118334\", \"-3.0314820291096964\", \"-3.8442753972956614\", \"-3.8469599372517127\", \"-3.9027114472230875\", \"-2.876422736939421\", \"-2.3805057584674607\", \"-3.318123167491948\", \"-3.6794009538182184\", \"-3.4869143069364648\", \"-3.9852485149553774\", \"-4.735182176990463\", \"-4.015472686656207\", \"-3.9945706548431312\", \"-4.180456064458132\", \"-3.342225382232475\", \"-4.435333935747911\", \"-5.795880017344075\", \"-3.7550404226587353\", \"-4.578396073130169\", \"-3.9714206145281454\", \"-2.453773919309606\", \"-3.3758633810732226\", \"-3.7248960504308033\", \"-3.3150738886247075\", \"-3.057299613290579\", \"-5.023650020996727\", \"-3.602207676559722\", \"-2.736441330295094\", \"-3.063289261191773\", \"-5.028260409112222\", \"-3.464238916329031\", \"-2.995208037250274\", \"-3.7015945429755126\", \"-3.505288974794737\", \"-3.722920512456851\", \"-3.653255945395151\", \"-4.051587034221399\", \"-4.636388020107856\", \"-3.940815382368629\", \"-4.363512103646634\", \"-3.963438968452635\", \"-3.3303354510593266\", \"-3.830049444797889\", \"-4.464705879957229\", \"-4.102372908709558\", \"-4.47755576649368\", \"-4.844663962534939\", \"-4.494850021680094\", \"-4.2262135550188065\", \"-1.9785436712525704\", \"-3.055760699641113\", \"-2.9860821793619\", \"-2.0247957846585676\", \"-4.370590400897281\", \"-4.772113295386326\", \"-4.882728704344236\", \"-4.6439741428068775\", \"-4.774690718274138\", \"-4.217527375833714\", \"-2.214642969038788\", \"-2.8091510990128845\", \"-3.784505198322707\", \"-5.906578314837765\", \"-4.705533773838407\", \"-3.5060988183484625\", \"-4.705533773838407\", \"-4.485452247339714\", \"-4.995678626217358\", \"-5.338187314462739\", \"-4.402304814074488\", \"-6.356547323513812\", \"-3.357033215415614\", \"-4.97061622231479\", \"-3.8876933432706204\", \"-2.2563224293399684\", \"-4.126098402135539\", \"-3.7987531293192847\", \"-4.1944991418416\", \"-2.7681380906362003\", \"-2.9755237735878453\", \"-4.403402904373539\", \"-3.5660414529421836\", \"-4.458420756053419\", \"-4.36251027048749\", \"-3.946157409688385\", \"-4.892790030352131\", \"-4.175223537524454\", \"-4.394694953858891\", \"-5.33161408331\", \"-4.7544873321858505\", \"-4.815308569182402\", \"-4.257274868695302\", \"-4.876148359032914\", \"-5.125518182300533\", \"-1.4785148156711823\", \"-2.9592798072480777\", \"-4.193141970481182\", \"-4.323306390375134\", \"-3.4802940456862683\", \"-4.156144577376839\", \"-4.443697499232712\", \"-4.428291168191312\", \"-3.798422639903219\", \"-2.5762900886762763\", \"-3.0921099966668937\", \"-3.231851958696794\", \"-2.8730968388603966\", \"-4.017728766960432\", \"-3.1302216481338947\", \"-3.8608611034557248\", \"-4.309803919971486\", \"-3.624254106458258\", \"-3.5652171947512055\", \"-2.9268566915779135\", \"-4.33913452199613\", \"-4.057495893831919\", \"-3.1657338385396914\", \"-3.2531144811100967\", \"-4.730487055782084\", \"-3.3079837029331585\", \"-3.272213200162334\", \"-4.663540266151471\", \"-5.423658649794207\", \"-3.722420580006885\", \"-3.953032948079654\", \"-4.041914151478915\", \"-4.747146969020107\", \"-3.865861157939969\", \"-4.308034897232639\", \"-3.7215848234154736\", \"-4.079354998593212\", \"-3.501073598515221\", \"-4.471083299722345\", \"-4.844663962534939\", \"-4.223298816011589\", \"-4.492144128304169\", \"-3.86681889325931\", \"-4.72584215073632\", \"-2.8186687244458337\", \"-2.490416729366709\", \"-3.537070690885306\", \"-2.1324913238848042\", \"-4.023650020996727\", \"-3.044539796873149\", \"-4.30189945437661\", \"-3.5430209208411494\", \"-3.2806579386685026\", \"-3.612960954683881\"], \n",
    "    \"colorbar\": {\"title\": \"log10 fractional abundance\"}, \n",
    "    \"colorscale\": [\n",
    "      [0, \"rgb(0, 0, 155)\"], [0.35, \"rgb(0, 108, 255)\"], [0.5, \"rgb(98, 255, 146)\"], [0.6, \"rgb(255, 147, 0)\"], [0.7, \"rgb(255, 47, 0)\"], [1, \"rgb(216, 0, 0)], \n",
    "    \"colorsrc\": \"ianpgm:26:824d4e\", \n",
    "    \"reversescale\": False, \n",
    "    \"showscale\": True\n",
    "  }, \n",
    "  \"mode\": \"markers\", \n",
    "  \"name\": \"longitude\", \n",
    "  \"text\": [\"SRR617965\", \"SRR617975\", \"SRR632524\", \"SRR632420\", \"SRR632596\", \"SRR632597\", \"SRR632591\", \"SRR632425\", \"SRR632431\", \"SRR790735\", \"SRR943925\", \"SRR943940\", \"SRR943951\", \"SRR943955\", \"SRR988098\", \"SRR1107025\", \"SRR1106954\", \"SRR1119242\", \"SRR1119244\", \"SRR1119246\", \"SRR1133371\", \"SRR1166723\", \"SRR1166732\", \"SRR1166734\", \"SRR1166735\", \"SRR1166753\", \"SRR1166759\", \"SRR1186907\", \"SRR1186908\", \"SRR1221559\", \"SRR1221645\", \"SRR1226616\", \"SRR1257386\", \"SRR1282968\", \"SRR1286277\", \"SRR1286266\", \"SRR1295394\", \"SRR1295396\", \"SRR1295397\", \"SRR1295404\", \"SRR1299927\", \"SRR1299949\", \"SRR1302168\", \"SRR1303666\", \"SRR1303659\", \"SRR1303670\", \"SRR1303667\", \"SRR1303758\", \"SRR1326016\", \"SRR1342458\", \"SRR1342459\", \"SRR1342460\", \"SRR1342461\", \"SRR1342462\", \"SRR1342463\", \"SRR1342464\", \"SRR1342465\", \"SRR1342466\", \"SRR1342467\", \"SRR1342468\", \"SRR1377087\", \"SRR1383325\", \"SRR1507190\", \"SRR1518894\", \"SRR1519344\", \"SRR1523641\", \"SRR1524352\", \"SRR1524438\", \"SRR1524612\", \"SRR1524661\", \"SRR1524479\", \"SRR1524688\", \"SRR1524738\", \"SRR1524658\", \"SRR1531656\", \"SRR1531664\", \"SRR1531690\", \"SRR1531756\", \"SRR1538787\", \"SRR1555149\", \"SRR1560628\", \"SRR1561372\", \"SRR1560314\", \"SRR1562064\", \"SRR1562979\", \"SRR1562987\", \"SRR1563012\", \"SRR1566119\", \"SRR1573668\", \"SRR1569032\", \"SRR1573353\", \"SRR1575262\", \"SRR1564096\", \"SRR1616887\", \"SRR1582511\", \"SRR1582517\", \"SRR1583214\", \"SRR1583221\", \"SRR1583244\", \"SRR1585567\", \"SRR1585194\", \"SRR1585203\", \"SRR1586334\", \"SRR1586337\", \"SRR1586340\", \"SRR1586341\", \"SRR1594404\", \"SRR1586347\", \"SRR1586350\", \"SRR1586353\", \"SRR1586356\", \"SRR1586359\", \"SRR1586362\", \"SRR1586365\", \"SRR1586368\", \"SRR1587070\", \"SRR1593665\", \"SRR1594355\", \"SRR1594353\", \"SRR1594513\", \"SRR1594356\", \"SRR1594357\", \"SRR1594359\", \"SRR1594358\", \"SRR1594360\", \"SRR1594361\", \"SRR1594454\", \"SRR1594461\", \"SRR1594465\", \"SRR1594466\", \"SRR1594522\", \"SRR1594470\", \"SRR1594472\", \"SRR1594446\", \"SRR1594474\", \"SRR1594373\", \"SRR1594451\", \"SRR1594435\", \"SRR1594496\", \"SRR1594482\", \"SRR1594483\", \"SRR1594484\", \"SRR1594485\", \"SRR1594486\", \"SRR1594383\", \"SRR1594384\", \"SRR1594489\", \"SRR1594386\", \"SRR1594388\", \"SRR1594501\", \"SRR1594389\", \"SRR1594390\", \"SRR1594433\", \"SRR1594495\", \"SRR1594432\", \"SRR1594503\", \"SRR1594508\", \"SRR1594396\", \"SRR1594507\", \"SRR1594421\", \"SRR1594401\", \"SRR1594428\", \"SRR1594402\", \"SRR1594403\", \"SRR1594405\", \"SRR1594406\", \"SRR1594492\", \"SRR1594480\", \"SRR1594425\", \"SRR1594525\", \"SRR1594481\", \"SRR1594434\", \"SRR1594443\", \"SRR1594511\", \"SRR1594510\", \"SRR1594464\", \"SRR1594468\", \"SRR1594467\", \"SRR1594469\", \"SRR1594473\", \"SRR1594499\", \"SRR1594498\", \"SRR1576816\", \"SRR1577923\", \"SRR1578002\", \"SRR1577926\", \"SRR1578007\", \"SRR1578009\", \"SRR1578020\", \"SRR1577934\", \"SRR1577949\", \"SRR1577941\", \"SRR1578026\", \"SRR1619609\", \"SRR1619617\", \"SRR1622032\", \"SRR1622035\", \"SRR1622036\", \"SRR1622037\", \"SRR1622038\", \"SRR1622830\", \"SRR1622831\", \"SRR1622832\", \"SRR1622859\", \"SRR1623109\", \"SRR1623126\", \"SRR1623103\", \"SRR1623119\", \"SRR1623155\", \"SRR1635611\", \"SRR1647946\", \"SRR1647972\", \"SRR1649655\", \"SRR1664662\", \"SRR1686679\", \"SRR1686686\", \"SRR1697574\", \"SRR1697671\", \"SRR1697820\", \"DRR027544\", \"SRR1722366\", \"SRR1722373\", \"SRR1752069\", \"SRR1761031\", \"SRR1761004\", \"SRR1761055\", \"SRR1761061\", \"SRR1761065\", \"SRR1761078\", \"SRR1761086\", \"SRR1768616\", \"SRR1768545\", \"SRR1768549\", \"SRR1768561\", \"SRR1768565\", \"SRR1768605\", \"SRR1768612\", \"SRR1768628\", \"SRR1778122\", \"SRR1783786\", \"SRR1784993\", \"SRR1792951\", \"SRR1797213\", \"SRR1797329\", \"SRR1798319\", \"DRR060152\", \"DRR028700\", \"DRR028703\", \"DRR028707\", \"DRR028716\", \"DRR028761\", \"SRR2061033\", \"SRR1819738\", \"SRR1824567\", \"SRR1824443\", \"SRR1824434\", \"SRR1824422\", \"SRR1824424\", \"SRR1824416\", \"SRR1824414\", \"SRR1824411\", \"SRR1824377\", \"SRR1824406\", \"SRR1824405\", \"SRR1824403\", \"SRR1824398\", \"SRR1824395\", \"SRR1824393\", \"SRR1824391\", \"SRR1824387\", \"SRR1824383\", \"SRR1824381\", \"SRR1824380\", \"SRR1824379\", \"SRR1824376\", \"SRR1824374\", \"SRR1824373\", \"SRR1824372\", \"SRR1824369\", \"SRR1824365\", \"SRR1824364\", \"SRR1824361\", \"SRR1824359\", \"SRR1824354\", \"SRR1824352\", \"SRR1824350\", \"SRR1824348\", \"SRR1824347\", \"SRR1824345\", \"SRR1824339\", \"SRR1824332\", \"SRR1824331\", \"SRR1825375\", \"SRR1832302\", \"SRR1832810\", \"SRR1916037\", \"SRR1922513\", \"SRR1930288\", \"SRR1946576\", \"SRR1946720\", \"SRR1946612\", \"SRR1947065\", \"SRR1947067\", \"SRR1948174\", \"SRR1948266\", \"SRR1948268\", \"SRR1948274\", \"SRR1951466\", \"SRR1964775\", \"SRR1976077\", \"SRR1980018\", \"SRR1982388\", \"SRR1982391\", \"SRR1982433\", \"SRR1993004\", \"SRR1994768\", \"SRR2000139\", \"SRR2000210\", \"SRR2000204\", \"SRR2001645\", \"SRR2002301\", \"SRR2001625\", \"SRR1557181\", \"SRR1559264\", \"SRR1559262\", \"SRR1559261\", \"SRR1559259\", \"SRR1559258\", \"SRR1559256\", \"SRR1559253\", \"SRR1559251\", \"SRR1559249\", \"SRR1559247\", \"SRR1559242\", \"SRR1559237\", \"SRR1559236\", \"SRR1559235\", \"SRR1559234\", \"SRR1559232\", \"SRR1557179\", \"SRR1557173\", \"SRR2004054\", \"SRR2004055\", \"SRR2006033\", \"SRR2006029\", \"SRR2006027\", \"SRR2006026\", \"SRR2006049\", \"SRR2006048\", \"SRR2006046\", \"SRR2006044\", \"SRR2006043\", \"SRR2010418\", \"SRR2005978\", \"SRR2020107\", \"SRR2026993\", \"SRR2027257\", \"SRR2027313\", \"SRR2032894\", \"SRR2032895\", \"SRR2032896\", \"SRR2032901\", \"SRR2032903\", \"SRR2032904\", \"SRR2032905\", \"SRR2032906\", \"SRR2027843\", \"SRR2032885\", \"SRR2032884\", \"SRR2032883\", \"SRR2032909\", \"SRR2032908\", \"SRR2032920\", \"SRR2032919\", \"SRR2032915\", \"SRR2032949\", \"SRR2032947\", \"SRR2032943\", \"SRR2032941\", \"SRR2032939\", \"SRR2032932\", \"SRR2032931\", \"SRR2032929\", \"SRR2032928\", \"SRR2032927\", \"SRR2032925\", \"SRR2032956\", \"SRR2032955\", \"SRR2032954\", \"SRR2032962\", \"SRR2032961\", \"SRR2032959\", \"SRR2032958\", \"SRR2032951\", \"SRR2032979\", \"SRR2032983\", \"SRR2032982\", \"SRR2032981\", \"SRR2032978\", \"SRR2032977\", \"SRR2032966\", \"SRR2032990\", \"SRR2032989\", \"SRR2032988\", \"SRR2032985\", \"SRR2032984\", \"SRR2033788\", \"SRR2033834\", \"SRR2036087\", \"SRR2039580\", \"SRR2041014\", \"SRR2046156\", \"SRR3104406\", \"SRR2003278\", \"SRR2045862\", \"DRR024371\", \"SRR2046161\", \"SRR2046183\", \"SRR2046177\", \"SRR2048134\", \"SRR2060100\", \"SRR2079583\", \"SRR2053829\", \"SRR2053824\", \"SRR2053827\", \"SRR2295155\", \"SRR2059003\", \"SRR2064603\", \"SRR2071751\", \"SRR2079288\", \"SRR2080568\", \"SRR2082875\", \"SRR2082599\", \"SRR2083557\", \"SRR2083945\", \"SRR2094711\", \"SRR2094738\", \"SRR2087594\", \"SRR2097261\", \"SRR2097262\", \"SRR2097316\", \"SRR2097264\", \"SRR2097265\", \"SRR2097267\", \"SRR2097268\", \"SRR2097323\", \"SRR2097270\", \"SRR2097332\", \"SRR2097276\", \"SRR2097277\", \"SRR2097326\", \"SRR2097327\", \"SRR2094417\", \"SRR2097587\", \"SRR2097572\", \"SRR2097680\", \"SRR2097657\", \"SRR2097649\", \"SRR2097646\", \"SRR2097642\", \"SRR2097634\", \"SRR2097627\", \"SRR2097618\", \"SRR2099847\", \"SRR2104033\", \"SRR2106661\", \"SRR2106428\", \"SRR2135023\", \"SRR2126751\", \"SRR2126955\", \"SRR2130162\", \"SRR2130156\", \"SRR2130155\", \"SRR2130153\", \"SRR2130149\", \"SRR2130146\", \"SRR2130145\", \"SRR2130144\", \"SRR2130143\", \"SRR2130142\", \"SRR2130141\", \"SRR2130138\", \"SRR2130137\", \"SRR2130161\", \"SRR2135533\", \"SRR2127250\", \"SRR2153422\", \"SRR2153417\", \"SRR2153416\", \"SRR2153437\", \"SRR2153435\", \"SRR2153434\", \"SRR2154162\", \"SRR2154243\", \"SRR2157886\", \"SRR2162786\", \"SRR2157957\", \"SRR2170978\", \"SRR2240066\", \"SRR2669764\", \"SRR2310545\", \"SRR2349960\", \"SRR2349934\", \"SRR2400241\", \"SRR2428262\", \"SRR2670142\", \"SRR2428571\", \"SRR2482258\", \"SRR2516314\", \"SRR2973538\", \"SRR2550687\", \"SRR2541828\", \"SRR2553752\", \"SRR2553748\", \"SRR2553777\", \"SRR2553774\", \"SRR2561208\", \"SRR2605787\", \"SRR2568299\", \"SRR2634822\", \"SRR2642743\", \"SRR2642872\", \"SRR2643370\", \"SRR2638754\", \"SRR2638747\", \"SRR2668801\", \"SRR2748655\", \"SRR2758184\", \"SRR2808381\", \"SRR2821180\", \"SRR2827652\", \"SRR2827651\", \"SRR2827650\", \"SRR2827649\", \"SRR2827648\", \"SRR2827647\", \"SRR2827646\", \"SRR2827645\", \"SRR2827642\", \"SRR2827639\", \"SRR2827632\", \"SRR2827631\", \"SRR2827630\", \"SRR2827629\", \"SRR2829177\", \"SRR2829279\", \"SRR2829191\", \"SRR2829221\", \"SRR2829226\", \"SRR2829237\", \"SRR2829258\", \"SRR2829278\", \"SRR2829341\", \"SRR2982283\", \"SRR2911362\", \"SRR2913582\", \"SRR2419528\", \"SRR2917918\", \"SRR2954849\", \"SRR2953776\", \"SRR2953765\", \"SRR2954111\", \"SRR2953780\", \"SRR2953750\", \"SRR2953894\", \"SRR2953831\", \"SRR2953770\", \"SRR2953755\", \"SRR2955014\", \"SRR2961927\", \"SRR2961995\", \"SRR2962027\", \"SRR2962022\", \"SRR2962024\", \"SRR2962025\", \"SRR2962026\", \"SRR2962911\", \"SRR2962973\", \"SRR2970538\", \"SRR2973546\", \"SRR2975948\", \"SRR2976533\", \"SRR3176133\", \"SRR3198573\", \"DRR055290\", \"SRR3216404\", \"DRR033074\", \"DRR033795\", \"SRR3309545\", \"SRR3343762\", \"SRR3343934\", \"SRR3944723\", \"SRR3944758\", \"SRR3944734\", \"SRR3944737\", \"SRR3944749\", \"SRR3944756\", \"SRR3944762\", \"SRR3944765\", \"SRR3944774\", \"SRR3944783\", \"SRR3944785\", \"SRR3944792\", \"SRR3944803\", \"SRR3944811\", \"SRR3944820\", \"SRR3944825\", \"SRR3944829\", \"SRR3944838\", \"SRR3944836\", \"SRR3944841\", \"SRR3944851\", \"SRR3944853\", \"SRR3944863\", \"SRR3944872\", \"SRR3944877\", \"SRR3944883\", \"SRR3944885\", \"SRR3944886\", \"SRR3944893\", \"SRR3944892\", \"SRR3944899\", \"SRR3944907\", \"SRR3944915\", \"SRR3944918\", \"SRR3944925\", \"SRR3944935\", \"SRR3944942\", \"SRR3944947\", \"SRR3944957\", \"SRR3944966\", \"SRR3944971\", \"SRR3944977\", \"SRR3944988\", \"SRR3944995\", \"SRR3944999\", \"DRR057453\", \"SRR5010220\", \"DRR069263\", \"SRR5097914\", \"SRR5101663\", \"DRR060137\", \"DRR060138\", \"DRR060139\", \"DRR060140\", \"DRR060149\", \"DRR060155\", \"DRR060158\", \"DRR060163\", \"DRR060167\", \"SRR2177749\", \"SRR5116585\", \"SRR1867749\", \"DRR072502\", \"DRR072416\", \"DRR072438\", \"DRR072451\", \"DRR072503\", \"DRR072505\", \"DRR072511\", \"DRR072517\", \"DRR072521\", \"DRR072523\", \"DRR072536\", \"DRR072537\", \"DRR072545\", \"DRR072550\", \"DRR072569\", \"DRR072571\", \"DRR072592\", \"DRR072603\", \"DRR072604\", \"DRR072606\", \"DRR066270\", \"SRR5155581\", \"SRR5155584\", \"SRR5155602\", \"SRR5155594\", \"SRR5155595\", \"SRR5155598\", \"SRR5155604\", \"SRR5155608\", \"SRR5155610\", \"SRR5155615\", \"ERR1685371\", \"DRR061174\", \"SRR5249664\", \"SRR5313014\", \"SRR5313022\", \"SRR5351669\", \"SRR5351695\", \"SRR5351696\", \"SRR5351697\", \"SRR5351698\", \"SRR5351699\", \"SRR5369865\", \"SRR5431118\", \"SRR5447855\", \"DRR055430\", \"SRR5647885\", \"DRR093233\", \"DRR082906\", \"DRR095249\", \"SRR5817296\", \"DRR097708\", \"DRR097711\", \"DRR097718\", \"SRR6026790\", \"ERR2113138\", \"SRR6293897\", \"SRR6308603\", \"SRR6308612\", \"SRR6308595\", \"SRR6308856\", \"DRR111515\", \"SRR6340175\", \"SRR6352038\", \"SRR6351969\", \"SRR6351967\", \"SRR6351965\", \"SRR6352394\", \"SRR6352271\", \"SRR6352268\", \"SRR6352572\", \"SRR6352825\", \"SRR6367454\", \"SRR6367451\", \"SRR6367433\", \"SRR6367422\", \"SRR6367418\", \"SRR6371993\", \"SRR6372028\", \"SRR6375646\", \"SRR6378117\", \"SRR6379041\", \"SRR6379039\", \"SRR6396223\", \"SRR6396214\", \"SRR6398195\", \"SRR6398189\", \"SRR6398194\", \"SRR6398193\", \"SRR6398184\", \"SRR6398186\", \"SRR6398183\", \"SRR6398181\", \"SRR6398179\", \"SRR6398176\", \"SRR6398175\", \"SRR6398167\", \"SRR6398165\", \"SRR6398151\", \"SRR6398150\", \"SRR6401345\", \"SRR6401492\", \"SRR6401395\", \"DRR062525\", \"DRR119256\", \"SRR6413129\", \"SRR6414643\", \"SRR6414636\", \"SRR6414628\", \"SRR6417044\", \"SRR6419785\", \"SRR6419757\", \"SRR6424979\", \"SRR6424978\", \"SRR6424976\", \"SRR6424969\", \"SRR6429191\", \"SRR6429190\", \"SRR6429183\", \"SRR6429403\", \"SRR6432744\", \"SRR6434188\", \"SRR6434165\", \"SRR6435245\", \"SRR6435260\", \"SRR6435257\", \"SRR6510493\", \"SRR6510499\", \"SRR6517612\", \"SRR7058671\", \"SRR7058668\"], \n",
    "  \"textsrc\": \"ianpgm:26:95b982\", \n",
    "  \"type\": \"scattermapbox\"\n",
    "}\n",
    "data = Data([trace1])\n",
    "layout = {\n",
    "  \"autosize\": True, \n",
    "  \"hovermode\": \"closest\", \n",
    "  \"mapbox\": {\n",
    "    \"bearing\": 0, \n",
    "    \"center\": {\n",
    "      \"lat\": 28.0902837676, \n",
    "      \"lon\": 45.7241702191\n",
    "    }, \n",
    "    \"pitch\": 0, \n",
    "    \"zoom\": 1.56953619006\n",
    "  }, \n",
    "  \"title\": \"Treasure Map\"\n",
    "}\n",
    "fig = Figure(data=data, layout=layout)\n",
    "plot_url = py.plot(fig)"
   ]
  },
  {
   "cell_type": "markdown",
   "metadata": {},
   "source": [
    "#### Merge"
   ]
  },
  {
   "cell_type": "code",
   "execution_count": 81,
   "metadata": {},
   "outputs": [
    {
     "name": "stdout",
     "output_type": "stream",
     "text": [
      "3\n",
      "4\n",
      "5\n",
      "6\n",
      "7\n"
     ]
    }
   ],
   "source": [
    "startNum = 3\n",
    "endNum = 7\n",
    "type_file = 'enrolments'\n",
    "first = True\n",
    "outputPath = '../data/processed/' + 'Merged' + str(startNum) + '-' + str(endNum) + '_' + type_file + '.csv'\n",
    "data_t = []\n",
    "for i in range(startNum,endNum+1):\n",
    "    print(i)\n",
    "    timesName = '-' + str(t) + '_'\n",
    "    fileName = '../data/raw/Engagement of Cyber Serurity/dataset201819/cyber-security' + timesName + type_file + '.csv'\n",
    "    data = pd.read_csv(fileName)\n",
    "    data_t.append(data)\n",
    "\n",
    "mergedData = pd.concat(data_t)\n",
    "mergedData.to_csv(outputPath)"
   ]
  },
  {
   "cell_type": "code",
   "execution_count": 102,
   "metadata": {},
   "outputs": [
    {
     "name": "stdout",
     "output_type": "stream",
     "text": [
      "158\n"
     ]
    }
   ],
   "source": [
    "a = mergedData['detected_country']\n",
    "a.drop_duplicates(inplace=True)\n",
    "print(len(a))\n",
    "#a.to_csv('../data/processed/' +'Detected_Country' + '_157' + '.csv')"
   ]
  },
  {
   "cell_type": "code",
   "execution_count": null,
   "metadata": {},
   "outputs": [],
   "source": []
  }
 ],
 "metadata": {
  "kernelspec": {
   "display_name": "Python 3",
   "language": "python",
   "name": "python3"
  },
  "language_info": {
   "codemirror_mode": {
    "name": "ipython",
    "version": 3
   },
   "file_extension": ".py",
   "mimetype": "text/x-python",
   "name": "python",
   "nbconvert_exporter": "python",
   "pygments_lexer": "ipython3",
   "version": "3.6.4"
  }
 },
 "nbformat": 4,
 "nbformat_minor": 2
}
